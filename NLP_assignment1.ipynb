{
  "nbformat": 4,
  "nbformat_minor": 0,
  "metadata": {
    "colab": {
      "name": "Untitled0.ipynb",
      "provenance": [],
      "collapsed_sections": [],
      "authorship_tag": "ABX9TyNfuVE6jKyIkzF8Oe8HfZ9h",
      "include_colab_link": true
    },
    "kernelspec": {
      "name": "python3",
      "display_name": "Python 3"
    },
    "language_info": {
      "name": "python"
    }
  },
  "cells": [
    {
      "cell_type": "markdown",
      "metadata": {
        "id": "view-in-github",
        "colab_type": "text"
      },
      "source": [
        "<a href=\"https://colab.research.google.com/github/KealanMannix/CS6501_SEM1_2021-2/blob/main/NLP_assignment1.ipynb\" target=\"_parent\"><img src=\"https://colab.research.google.com/assets/colab-badge.svg\" alt=\"Open In Colab\"/></a>"
      ]
    },
    {
      "cell_type": "markdown",
      "metadata": {
        "id": "khUvEFHpGmuD"
      },
      "source": [
        "Etivity 1\n",
        "\n",
        "Name: Kealan Mannix\n",
        "\n",
        "Student ID: 17239664\n",
        "\n",
        "Task 1:\n",
        "\n",
        "Write a function in Python that takes a string as input and uses regular expressions to: \n",
        "\n",
        "  1.1 check if the given string is a valid Eircode or not \n",
        "\n",
        "  1.2 if the string is a valid Eircode, identify and print out the Eircode's geographical district\n"
      ]
    },
    {
      "cell_type": "code",
      "metadata": {
        "colab": {
          "base_uri": "https://localhost:8080/"
        },
        "id": "a0ddui_S33ox",
        "outputId": "813d0724-799e-4862-afa5-a35fa5414f21"
      },
      "source": [
        "#Import necessary libraries\n",
        "import re\n",
        "import csv\n",
        "\n",
        "#Use linux wget command to download CSV file for eircodes\n",
        "!wget https://gist.githubusercontent.com/ajoorabchi/eac194a79dd26de8864f9206b7842ff1/raw/8ea1d8d5f74b5b2724e378b43d4df6094990c7db/Eircode%2520Routing%2520Key%2520Boundaries.csv\n",
        "filepath = \"/content/Eircode Routing Key Boundaries.csv\"\n",
        "\n",
        "#open the eircode file and load in the routing key districts\n",
        "with open(filepath, 'r') as f:\n",
        "  reader = csv.reader(f)\n",
        "  KeyRouteList = list(map(tuple,reader))\n",
        "\n",
        "print(KeyRouteList)\n",
        "\n",
        "def eircodeValidator(eircode):\n",
        "  #Strip all leading and trailing whitespaces\n",
        "  eircode = eircode.strip()\n",
        "  print(\"Eircode =\",eircode)\n",
        "  #Create regex expression to check if string is a valid eircode\n",
        "  valid = re.compile(\"^[0-9,A-Z]{3}[-,\\s]?[0-9,A-Z]{4}$\")\n",
        "\n",
        "  #Check if eircode is valid\n",
        "  if valid.match(eircode):\n",
        "\n",
        "    #get the routing key and unique identifier and store in variables\n",
        "    RoutingKey = eircode[:3]\n",
        "    UniqueIdentifier = eircode[-4:]\n",
        "\n",
        "    #Get the appropriate district for the routing key from the routing key list\n",
        "    district = [y for (x,y) in KeyRouteList if x == RoutingKey]\n",
        "\n",
        "    #Print necessary information\n",
        "    print(\"Valid Eircode, Routing Key = {}, Unique Identifier = {}\".format(RoutingKey, UniqueIdentifier))\n",
        "    print(\"Destination =\", *district,\"\\n\")\n",
        "\n",
        "  #Deal with invalid cases\n",
        "  else:\n",
        "    print(\"Invalid Eircode\\n\")\n",
        "\n",
        "#Test code by giving it various eircodes\n",
        "eircodeValidator(\"V94-DP7N\")\n",
        "eircodeValidator(\"V94 DP7N\")\n",
        "eircodeValidator(\"v94 DP7N\")\n",
        "eircodeValidator(\" V94-DP7N\")\n",
        "eircodeValidator(\"V94 DP7N \")\n",
        "\n",
        "\n"
      ],
      "execution_count": null,
      "outputs": [
        {
          "output_type": "stream",
          "name": "stdout",
          "text": [
            "--2021-09-27 10:37:30--  https://gist.githubusercontent.com/ajoorabchi/eac194a79dd26de8864f9206b7842ff1/raw/8ea1d8d5f74b5b2724e378b43d4df6094990c7db/Eircode%2520Routing%2520Key%2520Boundaries.csv\n",
            "Resolving gist.githubusercontent.com (gist.githubusercontent.com)... 185.199.108.133, 185.199.109.133, 185.199.110.133, ...\n",
            "Connecting to gist.githubusercontent.com (gist.githubusercontent.com)|185.199.108.133|:443... connected.\n",
            "HTTP request sent, awaiting response... 200 OK\n",
            "Length: 1934 (1.9K) [text/plain]\n",
            "Saving to: ‘Eircode Routing Key Boundaries.csv’\n",
            "\n",
            "\r          Eircode R   0%[                    ]       0  --.-KB/s               \rEircode Routing Key 100%[===================>]   1.89K  --.-KB/s    in 0s      \n",
            "\n",
            "2021-09-27 10:37:30 (20.3 MB/s) - ‘Eircode Routing Key Boundaries.csv’ saved [1934/1934]\n",
            "\n",
            "[('ROUTING KEY', 'DESCRIPTOR'), ('A41', 'BALLYBOUGHAL'), ('A42', 'GARRISTOWN'), ('A45', 'OLDTOWN'), ('A63', 'GREYSTONES'), ('A67', 'WICKLOW'), ('A75', 'CASTLEBLAYNEY'), ('A81', 'CARRICKMACROSS'), ('A82', 'KELLS'), ('A83', 'ENFIELD'), ('A84', 'ASHBOURNE'), ('A85', 'DUNSHAUGHLIN'), ('A86', 'DUNBOYNE'), ('A91', 'DUNDALK'), ('A92', 'DROGHEDA'), ('A94', 'BLACKROCK'), ('A96', 'GLENAGEARY'), ('A98', 'BRAY'), ('C15', 'NAVAN'), ('D01', 'DUBLIN 1'), ('D02', 'DUBLIN 2'), ('D03', 'DUBLIN 3'), ('D04', 'DUBLIN 4'), ('D05', 'DUBLIN 5'), ('D06', 'DUBLIN 6'), ('D07', 'DUBLIN 7'), ('D08', 'DUBLIN 8'), ('D09', 'DUBLIN 9'), ('D10', 'DUBLIN 10'), ('D11', 'DUBLIN 11'), ('D12', 'DUBLIN 12'), ('D13', 'DUBLIN 13'), ('D14', 'DUBLIN 14'), ('D15', 'DUBLIN 15'), ('D16', 'DUBLIN 16'), ('D17', 'DUBLIN 17'), ('D18', 'DUBLIN 18'), ('D20', 'DUBLIN 20'), ('D22', 'DUBLIN 22'), ('D24', 'DUBLIN 24'), ('D6W', 'DUBLIN 6W'), ('E21', 'CAHIR'), ('E25', 'CASHEL'), ('E32', 'CARRICK-ON-SUIR'), ('E34', 'TIPPERARY'), ('E41', 'THURLES'), ('E45', 'NENAGH'), ('E53', 'ROSCREA'), ('E91', 'CLONMEL'), ('F12', 'CLAREMORRIS'), ('F23', 'CASTLEBAR'), ('F26', 'BALLINA'), ('F28', 'WESTPORT'), ('F31', 'BALLINROBE'), ('F35', 'BALLYHAUNIS'), ('F42', 'ROSCOMMON'), ('F45', 'CASTLEREA'), ('F52', 'BOYLE'), ('F56', 'BALLYMOTE'), ('F91', 'SLIGO'), ('F92', 'LETTERKENNY'), ('F93', 'LIFFORD'), ('F94', 'DONEGAL'), ('H12', 'CAVAN'), ('H14', 'BELTURBET'), ('H16', 'COOTEHILL'), ('H18', 'MONAGHAN'), ('H23', 'CLONES'), ('H53', 'BALLINASLOE'), ('H54', 'TUAM'), ('H62', 'LOUGHREA'), ('H65', 'ATHENRY'), ('H71', 'CLIFDEN'), ('H91', 'GALWAY'), ('K32', 'BALBRIGGAN'), ('K34', 'SKERRIES'), ('K36', 'MALAHIDE'), ('K45', 'LUSK'), ('K56', 'RUSH'), ('K67', 'SWORDS'), ('K78', 'LUCAN'), ('N37', 'ATHLONE'), ('N39', 'LONGFORD'), ('N41', 'CARRICK-ON-SHANNON'), ('N91', 'MULLINGAR'), ('P12', 'MACROOM'), ('P14', 'CORK - CROOKSTOWN'), ('P17', 'KINSALE'), ('P24', 'COBH'), ('P25', 'MIDLETON'), ('P31', 'BALLINCOLLIG'), ('P32', 'CORK - DONOUGHMORE'), ('P36', 'YOUGHAL'), ('P43', 'CARRIGALINE'), ('P47', 'CORK - DUNMANWAY'), ('P51', 'MALLOW'), ('P56', 'CHARLEVILLE'), ('P61', 'FERMOY'), ('P67', 'MITCHELSTOWN'), ('P72', 'BANDON'), ('P75', 'BANTRY'), ('P81', 'SKIBBEREEN'), ('P85', 'CLONAKILTY'), ('R14', 'ATHY'), ('R21', 'MUINE BHEAG'), ('R32', 'PORTLAOISE'), ('R35', 'TULLAMORE'), ('R42', 'BIRR'), ('R45', 'EDENDERRY'), ('R51', 'KILDARE'), ('R56', 'CURRAGH CAMP'), ('R93', 'CARLOW'), ('R95', 'KILKENNY'), ('T12', 'CORK - BALLINHASSIG'), ('T23', 'CORK - BLARNEY'), ('T34', 'CORK - WHITECHURCH'), ('T45', 'LITTLE ISLAND'), ('T56', 'CORK - WATERGRASSHILL'), ('V14', 'SHANNON'), ('V15', 'KILRUSH'), ('V23', 'CAHERCIVEEN'), ('V31', 'LISTOWEL'), ('V35', 'KILMALLOCK'), ('V42', 'NEWCASTLE WEST'), ('V92', 'TRALEE'), ('V93', 'KILLARNEY'), ('V94', 'LIMERICK'), ('V95', 'ENNIS'), ('W12', 'NEWBRIDGE'), ('W23', 'MAYNOOTH'), ('W34', 'MONASTEREVIN'), ('W91', 'NAAS'), ('X35', 'DUNGARVAN'), ('X42', 'KILMACTHOMAS'), ('X91', 'WATERFORD'), ('Y14', 'ARKLOW'), ('Y21', 'ENNISCORTHY'), ('Y25', 'GOREY'), ('Y34', 'NEW ROSS'), ('Y35', 'WEXFORD')]\n",
            "Eircode = V94-DP7N\n",
            "Valid Eircode, Routing Key = V94, Unique Identifier = DP7N\n",
            "Destination = LIMERICK \n",
            "\n",
            "Eircode = V94 DP7N\n",
            "Valid Eircode, Routing Key = V94, Unique Identifier = DP7N\n",
            "Destination = LIMERICK \n",
            "\n",
            "Eircode = v94 DP7N\n",
            "Invalid Eircode\n",
            "\n",
            "Eircode = V94-DP7N\n",
            "Valid Eircode, Routing Key = V94, Unique Identifier = DP7N\n",
            "Destination = LIMERICK \n",
            "\n",
            "Eircode = V94 DP7N\n",
            "Valid Eircode, Routing Key = V94, Unique Identifier = DP7N\n",
            "Destination = LIMERICK \n",
            "\n"
          ]
        }
      ]
    },
    {
      "cell_type": "markdown",
      "metadata": {
        "id": "zr9oPew-H_FP"
      },
      "source": [
        "Task 2\n",
        "\n",
        "2.1 Use the !wget command to download the Complete Works of William Shakespeare then open the downloaded text file and print out its first 50 lines.\n",
        "\n",
        "2.2 Use the tf.keras.preprocessing.text.Tokenizer class to:\n",
        "\n",
        "\n",
        "> a. Tokenize the Shakespeare corpus\n",
        "\n",
        "> b. Print out the total number of  Tokens in the corpus\n",
        "\n",
        "> c. Print out the total number of Types in the corpus\n",
        "\n",
        "> d. Print out the most frequent Type in corpus and its frequency\n",
        "\n",
        "\n",
        "\n",
        "\n",
        "\n",
        "\n",
        "\n",
        "\n",
        "\n",
        "\n",
        "\n"
      ]
    },
    {
      "cell_type": "code",
      "metadata": {
        "id": "Xt_8L8gh_tic"
      },
      "source": [
        "#Import keras tokenizer and split text into tokens\n",
        "from keras.preprocessing.text import Tokenizer\n",
        "import nltk\n",
        "from nltk.stem import PorterStemmer\n",
        "from nltk.stem import WordNetLemmatizer"
      ],
      "execution_count": null,
      "outputs": []
    },
    {
      "cell_type": "code",
      "metadata": {
        "colab": {
          "base_uri": "https://localhost:8080/"
        },
        "id": "Mh70ELemIxXK",
        "outputId": "3651659f-9ebb-4d9c-e245-55e9ce380ab7"
      },
      "source": [
        "#Use linux wget command to download shakespeares works\n",
        "!wget https://www.gutenberg.org/files/100/100-0.txt\n",
        "filepath = \"/content/100-0.txt\"\n",
        "\n",
        "#Open Shakespeares works, split into lines and print first 50 lines\n",
        "ShakespeareFile = open(filepath, \"r\")\n",
        "ShakespeareContent = ShakespeareFile.read()\n",
        "ShakespeareContent = ShakespeareContent.splitlines()\n",
        "print(ShakespeareContent[0:50])\n",
        "\n",
        "\n",
        "tokenizer = Tokenizer(char_level=False)\n",
        "tokenizer.fit_on_texts(ShakespeareContent)\n",
        "sequences = tokenizer.texts_to_sequences(ShakespeareContent)\n",
        "word_count = tokenizer.word_counts\n",
        "#Make word types into dictionary for easier use\n",
        "d = dict(word_count)\n",
        "print(\"Total number of tokens:\",len(sequences)) #Tokens\n",
        "print(\"Total number of types:\",len(d)) #Types\n",
        "print(\"Most frequent type:\",max(d)) #Most frequent type\n",
        "print(\"Occurances of most frequent type:\",d[max(d)[1:]])\n",
        "\n"
      ],
      "execution_count": null,
      "outputs": [
        {
          "output_type": "stream",
          "name": "stdout",
          "text": [
            "--2021-09-27 11:24:12--  https://www.gutenberg.org/files/100/100-0.txt\n",
            "Resolving www.gutenberg.org (www.gutenberg.org)... 152.19.134.47, 2610:28:3090:3000:0:bad:cafe:47\n",
            "Connecting to www.gutenberg.org (www.gutenberg.org)|152.19.134.47|:443... connected.\n",
            "HTTP request sent, awaiting response... 200 OK\n",
            "Length: 5756698 (5.5M) [text/plain]\n",
            "Saving to: ‘100-0.txt.3’\n",
            "\n",
            "100-0.txt.3         100%[===================>]   5.49M  30.0MB/s    in 0.2s    \n",
            "\n",
            "2021-09-27 11:24:13 (30.0 MB/s) - ‘100-0.txt.3’ saved [5756698/5756698]\n",
            "\n",
            "['\\ufeffThe Project Gutenberg eBook of The Complete Works of William Shakespeare, by William Shakespeare', '', 'This eBook is for the use of anyone anywhere in the United States and', 'most other parts of the world at no cost and with almost no restrictions', 'whatsoever. You may copy it, give it away or re-use it under the terms', 'of the Project Gutenberg License included with this eBook or online at', 'www.gutenberg.org. If you are not located in the United States, you', 'will have to check the laws of the country where you are located before', 'using this eBook.', '', 'Title: The Complete Works of William Shakespeare', '', 'Author: William Shakespeare', '', 'Release Date: January 1994 [eBook #100]', '[Most recently updated: August 16, 2021]', '', 'Language: English', '', 'Character set encoding: UTF-8', '', '', '*** START OF THE PROJECT GUTENBERG EBOOK THE COMPLETE WORKS OF WILLIAM SHAKESPEARE ***', '', '', '', '', 'The Complete Works of William Shakespeare', '', 'by William Shakespeare', '', '', '', '', '      Contents', '', '               THE SONNETS', '', '               ALL’S WELL THAT ENDS WELL', '', '               THE TRAGEDY OF ANTONY AND CLEOPATRA', '', '               AS YOU LIKE IT', '', '               THE COMEDY OF ERRORS', '', '               THE TRAGEDY OF CORIOLANUS', '', '               CYMBELINE', '']\n",
            "Total number of tokens: 170592\n",
            "Total number of types: 32217\n",
            "Most frequent type: ﻿the\n",
            "Occurances of most frequent type: 30162\n"
          ]
        }
      ]
    },
    {
      "cell_type": "code",
      "metadata": {
        "id": "VwdCK1AVlxKm",
        "colab": {
          "base_uri": "https://localhost:8080/"
        },
        "outputId": "ba3cbaee-5ee2-493b-f1ca-bc7a9fb6c82f"
      },
      "source": [
        "#Stem all the words in corpus\n",
        "ps = PorterStemmer()\n",
        "stemmed_corpus = []\n",
        "for word in word_count:\n",
        "  stemmed_corpus.append(ps.stem(word))\n",
        "\n",
        "#Convert list to set to remove multiple occurances of same type\n",
        "stem_types = len(set(stemmed_corpus))\n",
        "\n",
        "#Lemmatize all words in corpus\n",
        "wl = WordNetLemmatizer()\n",
        "lemmatized_corpus = []\n",
        "for word in word_count:\n",
        "  lemmatized_corpus.append(wl.lemmatize(word))\n",
        "\n",
        "#Convert list to set to remove multiple occurances of the same type\n",
        "lem_types = len(set(lemmatized_corpus))\n",
        "\n",
        "#Assert the validity of this expression\n",
        "assert len(d) > lem_types > stem_types\n",
        "\n",
        "#Print info\n",
        "print(\"Total number of stemmed types:\",stem_types)\n",
        "print(\"Total number of lemmatized types:\",lem_types)\n",
        "\n"
      ],
      "execution_count": null,
      "outputs": [
        {
          "output_type": "stream",
          "name": "stdout",
          "text": [
            "Total number of stemmed types: 22737\n",
            "Total number of lemmatized types: 28916\n"
          ]
        }
      ]
    }
  ]
}