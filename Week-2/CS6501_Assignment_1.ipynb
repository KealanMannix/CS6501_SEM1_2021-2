{
  "nbformat": 4,
  "nbformat_minor": 0,
  "metadata": {
    "colab": {
      "name": "CS6501_Assignment-1.ipynb",
      "provenance": []
    },
    "kernelspec": {
      "name": "python3",
      "display_name": "Python 3"
    },
    "language_info": {
      "name": "python"
    }
  },
  "cells": [
    {
      "cell_type": "markdown",
      "metadata": {
        "id": "LcVMEKIOSIa0"
      },
      "source": [
        "<div>\n",
        "<img src=\"https://drive.google.com/uc?export=view&id=1vK33e_EqaHgBHcbRV_m38hx6IkG0blK_\" width=\"350\"/>\n",
        "</div> \n",
        "\n",
        "#**Artificial Intelligence - MSc**\n",
        "CS6501 - MACHINE LEARNING APPLICATIONS \n",
        "\n",
        "###Instructor: Enrique Naredo\n",
        "###CS6501_Assignment-1\n"
      ]
    },
    {
      "cell_type": "code",
      "metadata": {
        "id": "LqXD_IwUQuBF"
      },
      "source": [
        "#@title Current Date\n",
        "Today = '2021-08-22' #@param {type:\"date\"}\n"
      ],
      "execution_count": null,
      "outputs": []
    },
    {
      "cell_type": "code",
      "metadata": {
        "id": "uzDKau31OjVO",
        "cellView": "form"
      },
      "source": [
        "#@markdown ---\n",
        "#@markdown ### Enter your details here:\n",
        "Student_ID = \"\" #@param {type:\"string\"}\n",
        "Student_full_name = \"\" #@param {type:\"string\"}\n",
        "#@markdown ---"
      ],
      "execution_count": null,
      "outputs": []
    },
    {
      "cell_type": "code",
      "metadata": {
        "id": "r39xGZckTpKx",
        "cellView": "form"
      },
      "source": [
        "#@title Notebook information\n",
        "Notebook_type = 'Example' #@param [\"Example\", \"Lab\", \"Practice\", \"Etivity\", \"Assignment\", \"Exam\"]\n",
        "Version = 'Draft' #@param [\"Draft\", \"Final\"] {type:\"raw\"}\n",
        "Submission = False #@param {type:\"boolean\"}"
      ],
      "execution_count": null,
      "outputs": []
    },
    {
      "cell_type": "markdown",
      "metadata": {
        "id": "MuZ0F5C9qUmr"
      },
      "source": [
        "## Imports"
      ]
    },
    {
      "cell_type": "code",
      "metadata": {
        "id": "H4759neSP_Kh"
      },
      "source": [
        "# import libraries\n",
        "from sklearn.linear_model import LogisticRegression\n",
        "from pandas import DataFrame\n",
        "from mlxtend.plotting import plot_decision_regions\n",
        "import matplotlib.pyplot as plt\n",
        "import numpy as n\n",
        "import pandas as pd"
      ],
      "execution_count": 26,
      "outputs": []
    },
    {
      "cell_type": "markdown",
      "metadata": {
        "id": "oD9H-dnwFN7P"
      },
      "source": [
        "# Dataset-1"
      ]
    },
    {
      "cell_type": "markdown",
      "metadata": {
        "id": "-S5DJkzAlVyV"
      },
      "source": [
        "**Apply a Logistic Regression on a syntethic dataset:**\n",
        "* Create a synthetic dataset with 4 classes\n",
        "* 80 samples per class\n",
        "* Plot the data points\n",
        "* Split the dataset into 75% training and 25% test\n",
        "* Train the Logistic Regression model using the training set\n",
        "* Plot the decision boundary on training\n",
        "* Predict the class label using the test set\n",
        "* Plot the decision boundary on test\n",
        "* Add a section with a summary of your findings."
      ]
    },
    {
      "cell_type": "markdown",
      "metadata": {
        "id": "r-Qotaesn4VW"
      },
      "source": [
        "# Dataset-2"
      ]
    },
    {
      "cell_type": "markdown",
      "metadata": {
        "id": "6wB94ln4n4VW"
      },
      "source": [
        "**Apply a Logistic Regression on the Iris dataset:**\n",
        "* Load the dataset wine: load_iris()\n",
        "* Plot the data points\n",
        "* Split the dataset into 70% training and 30% test\n",
        "* Train the Logistic Regression model using the training set\n",
        "* Plot the decision boundary on training\n",
        "* Predict the class label using the test set\n",
        "* Plot the decision boundary on test\n",
        "* Add a section with a summary of your findings."
      ]
    },
    {
      "cell_type": "markdown",
      "metadata": {
        "id": "9e-aR0MEoRus"
      },
      "source": [
        "# Dataset-3"
      ]
    },
    {
      "cell_type": "markdown",
      "metadata": {
        "id": "X-8jzvvjoRut"
      },
      "source": [
        "**Apply a Logistic Regression on the Wine dataset:**\n",
        "* Load the dataset wine: load_wine()\n",
        "* Plot the data points\n",
        "* Split the dataset into 80% training and 20% test\n",
        "* Train the Logistic Regression model using the training set\n",
        "* Plot the decision boundary on training\n",
        "* Predict the class label using the test set\n",
        "* Plot the decision boundary on test\n",
        "* Add a section with a summary of your findings."
      ]
    },
    {
      "cell_type": "markdown",
      "metadata": {
        "id": "Hha0_R_YvF5Z"
      },
      "source": [
        "# Summary"
      ]
    },
    {
      "cell_type": "markdown",
      "metadata": {
        "id": "peYIuXbqvOH6"
      },
      "source": [
        "Discuss in this section all you comments with your peers, list your findings and any higlights from your work, follow the instructions given in Sulis.\n",
        "You can safely remove this cell once you are done with all of your comments."
      ]
    }
  ]
}
