{
  "nbformat": 4,
  "nbformat_minor": 0,
  "metadata": {
    "colab": {
      "name": "CS6501_Lab_2_1.ipynb",
      "provenance": []
    },
    "kernelspec": {
      "name": "python3",
      "display_name": "Python 3"
    },
    "language_info": {
      "name": "python"
    }
  },
  "cells": [
    {
      "cell_type": "markdown",
      "metadata": {
        "id": "LcVMEKIOSIa0"
      },
      "source": [
        "<div>\n",
        "<img src=\"https://drive.google.com/uc?export=view&id=1vK33e_EqaHgBHcbRV_m38hx6IkG0blK_\" width=\"350\"/>\n",
        "</div> \n",
        "\n",
        "#**Artificial Intelligence - MSc**\n",
        "CS6501 - MACHINE LEARNING APPLICATIONS \n",
        "\n",
        "###Instructor: Enrique Naredo\n",
        "###CS6501_Lab_2.1"
      ]
    },
    {
      "cell_type": "markdown",
      "metadata": {
        "id": "MuZ0F5C9qUmr"
      },
      "source": [
        "## Imports"
      ]
    },
    {
      "cell_type": "code",
      "metadata": {
        "id": "H4759neSP_Kh"
      },
      "source": [
        "# import libraries\n",
        "from sklearn.datasets import make_blobs\n",
        "from sklearn.linear_model import LogisticRegression\n",
        "from pandas import DataFrame\n",
        "from mlxtend.plotting import plot_decision_regions\n",
        "import matplotlib.pyplot as plt\n",
        "import numpy as np"
      ],
      "execution_count": 1,
      "outputs": []
    },
    {
      "cell_type": "markdown",
      "metadata": {
        "id": "XLp5xCeOqMEV"
      },
      "source": [
        "## Synthetic Dataset"
      ]
    },
    {
      "cell_type": "markdown",
      "metadata": {
        "id": "wTSNAvMfRYFn"
      },
      "source": [
        "Generate isotropic Gaussian blobs using \"[make_blobs](https://scikit-learn.org/stable/modules/generated/sklearn.datasets.make_blobs.html)\"\n"
      ]
    },
    {
      "cell_type": "code",
      "metadata": {
        "colab": {
          "base_uri": "https://localhost:8080/",
          "height": 279
        },
        "id": "JmQAB80HQxfC",
        "outputId": "cfb3d71f-9f9e-4c83-a507-8152e42d2a8b"
      },
      "source": [
        "## randomly generate a 2d, 2 classes dataset\n",
        "# run several times the cell to observe the results\n",
        "\n",
        "X1, y1 = make_blobs(n_samples=200, centers=2, n_features=2)\n",
        "# create a data frame\n",
        "df = DataFrame(dict(x=X1[:,0], y=X1[:,1], label=y1))\n",
        "# two classes\n",
        "colors = {0:'red', 1:'blue'}\n",
        "# figure\n",
        "fig, ax = plt.subplots()\n",
        "grouped = df.groupby('label')\n",
        "# scatter plot\n",
        "for key, group in grouped:\n",
        "    group.plot(ax=ax, kind='scatter', x='x', y='y', label=key, color=colors[key])\n",
        "# show the plot\n",
        "plt.show()"
      ],
      "execution_count": 17,
      "outputs": [
        {
          "output_type": "display_data",
          "data": {
            "image/png": "[encoded data removed]",
            "text/plain": [
              "<Figure size 432x288 with 1 Axes>"
            ]
          },
          "metadata": {
            "needs_background": "light"
          }
        }
      ]
    },
    {
      "cell_type": "code",
      "metadata": {
        "colab": {
          "base_uri": "https://localhost:8080/",
          "height": 205
        },
        "id": "bFLeyfH0UeW2",
        "outputId": "d9b1501d-5d6f-41c2-d891-b47467175c47"
      },
      "source": [
        "# show first n rows (default 5)\n",
        "df.head()"
      ],
      "execution_count": 18,
      "outputs": [
        {
          "output_type": "execute_result",
          "data": {
            "text/html": [
              "<div>\n",
              "<style scoped>\n",
              "    .dataframe tbody tr th:only-of-type {\n",
              "        vertical-align: middle;\n",
              "    }\n",
              "\n",
              "    .dataframe tbody tr th {\n",
              "        vertical-align: top;\n",
              "    }\n",
              "\n",
              "    .dataframe thead th {\n",
              "        text-align: right;\n",
              "    }\n",
              "</style>\n",
              "<table border=\"1\" class=\"dataframe\">\n",
              "  <thead>\n",
              "    <tr style=\"text-align: right;\">\n",
              "      <th></th>\n",
              "      <th>x</th>\n",
              "      <th>y</th>\n",
              "      <th>label</th>\n",
              "    </tr>\n",
              "  </thead>\n",
              "  <tbody>\n",
              "    <tr>\n",
              "      <th>0</th>\n",
              "      <td>-10.676456</td>\n",
              "      <td>-8.449722</td>\n",
              "      <td>0</td>\n",
              "    </tr>\n",
              "    <tr>\n",
              "      <th>1</th>\n",
              "      <td>-9.269561</td>\n",
              "      <td>-7.165704</td>\n",
              "      <td>0</td>\n",
              "    </tr>\n",
              "    <tr>\n",
              "      <th>2</th>\n",
              "      <td>-11.089615</td>\n",
              "      <td>-8.833555</td>\n",
              "      <td>0</td>\n",
              "    </tr>\n",
              "    <tr>\n",
              "      <th>3</th>\n",
              "      <td>10.382162</td>\n",
              "      <td>-0.532424</td>\n",
              "      <td>1</td>\n",
              "    </tr>\n",
              "    <tr>\n",
              "      <th>4</th>\n",
              "      <td>7.918080</td>\n",
              "      <td>-1.084827</td>\n",
              "      <td>1</td>\n",
              "    </tr>\n",
              "  </tbody>\n",
              "</table>\n",
              "</div>"
            ],
            "text/plain": [
              "           x         y  label\n",
              "0 -10.676456 -8.449722      0\n",
              "1  -9.269561 -7.165704      0\n",
              "2 -11.089615 -8.833555      0\n",
              "3  10.382162 -0.532424      1\n",
              "4   7.918080 -1.084827      1"
            ]
          },
          "metadata": {},
          "execution_count": 18
        }
      ]
    },
    {
      "cell_type": "code",
      "metadata": {
        "colab": {
          "base_uri": "https://localhost:8080/"
        },
        "id": "LrM6v2A6pMfb",
        "outputId": "265452e5-cea7-437b-d197-bc7e24c43488"
      },
      "source": [
        "# count the data elements for each class\n",
        "df['label'].value_counts()"
      ],
      "execution_count": 19,
      "outputs": [
        {
          "output_type": "execute_result",
          "data": {
            "text/plain": [
              "1    100\n",
              "0    100\n",
              "Name: label, dtype: int64"
            ]
          },
          "metadata": {},
          "execution_count": 19
        }
      ]
    },
    {
      "cell_type": "markdown",
      "metadata": {
        "id": "_ZZS9l69qwVJ"
      },
      "source": [
        "## Logistic Regresion"
      ]
    },
    {
      "cell_type": "markdown",
      "metadata": {
        "id": "IIgx7MOprsnT"
      },
      "source": [
        "* [Logistic regression](https://en.wikipedia.org/wiki/Logistic_regression) is a statistical model that in its basic form uses a logistic function to model a binary dependent variable, although many more complex extensions exist. \n",
        "* In regression analysis, logistic regression (or logit regression) is estimating the parameters of a logistic model (a form of binary regression). \n",
        "\n",
        "\n"
      ]
    },
    {
      "cell_type": "code",
      "metadata": {
        "colab": {
          "base_uri": "https://localhost:8080/"
        },
        "id": "HsRi3LDyNyKI",
        "outputId": "64211360-ce1d-4453-95da-1ba73b48725a"
      },
      "source": [
        "# Logistic Regression model\n",
        "LR_model = LogisticRegression()\n",
        "# fit to data a Logistic Regresion model\n",
        "LR_model.fit(X1, y1)"
      ],
      "execution_count": 20,
      "outputs": [
        {
          "output_type": "execute_result",
          "data": {
            "text/plain": [
              "LogisticRegression(C=1.0, class_weight=None, dual=False, fit_intercept=True,\n",
              "                   intercept_scaling=1, l1_ratio=None, max_iter=100,\n",
              "                   multi_class='auto', n_jobs=None, penalty='l2',\n",
              "                   random_state=None, solver='lbfgs', tol=0.0001, verbose=0,\n",
              "                   warm_start=False)"
            ]
          },
          "metadata": {},
          "execution_count": 20
        }
      ]
    },
    {
      "cell_type": "markdown",
      "metadata": {
        "id": "HhoTcXVzqOHl"
      },
      "source": [
        "Decision boundary from [Wikipedia](https://en.wikipedia.org/wiki/Decision_boundary): \n",
        "\n",
        "* A decision boundary is the region of a problem space in \n",
        "which the output label of a classifier is ambiguous.\n",
        "\n",
        "* If the decision surface is a hyperplane, then the classification problem is linear, and the classes are linearly separable.\n",
        "\n",
        "* In a statistical-classification problem with two classes, a decision boundary or decision surface is a hypersurface that partitions the underlying vector space into two sets, one for each class.\n",
        "\n",
        "* You can find a related information to this topic in this [publication](https://towardsdatascience.com/classification-problems-and-exploring-decision-boundaries-3317e03afcdb)\n",
        "\n",
        "\n"
      ]
    },
    {
      "cell_type": "code",
      "metadata": {
        "colab": {
          "base_uri": "https://localhost:8080/",
          "height": 336
        },
        "id": "8jMzZwuqgyYv",
        "outputId": "166b3920-ebc2-4c87-d2b1-be31a95dfa6a"
      },
      "source": [
        "# Plotting the decision boundary \n",
        "# from the LogisticRegression model\n",
        "plot_decision_regions(X1, y1, clf=LR_model, legend=2)\n"
      ],
      "execution_count": 21,
      "outputs": [
        {
          "output_type": "stream",
          "name": "stderr",
          "text": [
            "/usr/local/lib/python3.7/dist-packages/mlxtend/plotting/decision_regions.py:244: MatplotlibDeprecationWarning: Passing unsupported keyword arguments to axis() will raise a TypeError in 3.3.\n",
            "  ax.axis(xmin=xx.min(), xmax=xx.max(), y_min=yy.min(), y_max=yy.max())\n"
          ]
        },
        {
          "output_type": "execute_result",
          "data": {
            "text/plain": [
              "<matplotlib.axes._subplots.AxesSubplot at 0x7fe0cbccc5d0>"
            ]
          },
          "metadata": {},
          "execution_count": 21
        },
        {
          "output_type": "display_data",
          "data": {
            "image/png": "[encoded data removed]",
            "text/plain": [
              "<Figure size 432x288 with 1 Axes>"
            ]
          },
          "metadata": {
            "needs_background": "light"
          }
        }
      ]
    },
    {
      "cell_type": "markdown",
      "metadata": {
        "id": "-1Ns97SgxHRP"
      },
      "source": [
        "## New Data"
      ]
    },
    {
      "cell_type": "code",
      "metadata": {
        "id": "dTvTkAdzyQge"
      },
      "source": [
        "# new data instances (10)\n",
        "X_new, _ = make_blobs(n_samples=10, centers=2, n_features=2)"
      ],
      "execution_count": 26,
      "outputs": []
    },
    {
      "cell_type": "markdown",
      "metadata": {
        "id": "34ZOLzB_rFrK"
      },
      "source": [
        "## Predictions"
      ]
    },
    {
      "cell_type": "code",
      "metadata": {
        "colab": {
          "base_uri": "https://localhost:8080/"
        },
        "id": "Rn2NQt61O7nA",
        "outputId": "bb6c4651-e348-40ac-b054-aaf3c099bc42"
      },
      "source": [
        "# make predictions (assign class labels)\n",
        "y_pred = LR_model.predict(X_new)\n",
        "# show the inputs and predicted outputs\n",
        "for i in range(len(X_new)):\n",
        "\t#print(\"X=%s, Class Predicted = %s\" % (X_new[i], y_pred[i]))\n",
        "  print(\"X{0} = {1}, Class Predicted = {2}\".format(i, X_new[i], y_pred[i]))"
      ],
      "execution_count": 27,
      "outputs": [
        {
          "output_type": "stream",
          "name": "stdout",
          "text": [
            "X0 = [ 9.79372389 -2.80598531], Class Predicted = 1\n",
            "X1 = [-8.74805358  8.07851257], Class Predicted = 0\n",
            "X2 = [-7.67238675  8.28294564], Class Predicted = 0\n",
            "X3 = [10.46057974 -2.66394867], Class Predicted = 1\n",
            "X4 = [-7.89145312  8.75593614], Class Predicted = 0\n",
            "X5 = [-7.78640811  9.57803324], Class Predicted = 0\n",
            "X6 = [10.08722501 -4.63567181], Class Predicted = 1\n",
            "X7 = [ 9.28782036 -5.77906696], Class Predicted = 1\n",
            "X8 = [10.84182606 -4.65669974], Class Predicted = 1\n",
            "X9 = [-7.19723786  9.90378084], Class Predicted = 0\n"
          ]
        }
      ]
    },
    {
      "cell_type": "code",
      "metadata": {
        "id": "ej4fLLOa2tth"
      },
      "source": [
        "# create a data frame\n",
        "df_new = DataFrame(dict(x=X_new[:,0], y=X_new[:,1], label=y_pred))"
      ],
      "execution_count": 28,
      "outputs": []
    },
    {
      "cell_type": "code",
      "metadata": {
        "colab": {
          "base_uri": "https://localhost:8080/",
          "height": 362
        },
        "id": "wbEc5UPp0mmH",
        "outputId": "8817e03d-26ef-426a-9df4-ce87e5d5aa67"
      },
      "source": [
        "# show 10 rows \n",
        "df_new.head(10)"
      ],
      "execution_count": 29,
      "outputs": [
        {
          "output_type": "execute_result",
          "data": {
            "text/html": [
              "<div>\n",
              "<style scoped>\n",
              "    .dataframe tbody tr th:only-of-type {\n",
              "        vertical-align: middle;\n",
              "    }\n",
              "\n",
              "    .dataframe tbody tr th {\n",
              "        vertical-align: top;\n",
              "    }\n",
              "\n",
              "    .dataframe thead th {\n",
              "        text-align: right;\n",
              "    }\n",
              "</style>\n",
              "<table border=\"1\" class=\"dataframe\">\n",
              "  <thead>\n",
              "    <tr style=\"text-align: right;\">\n",
              "      <th></th>\n",
              "      <th>x</th>\n",
              "      <th>y</th>\n",
              "      <th>label</th>\n",
              "    </tr>\n",
              "  </thead>\n",
              "  <tbody>\n",
              "    <tr>\n",
              "      <th>0</th>\n",
              "      <td>9.793724</td>\n",
              "      <td>-2.805985</td>\n",
              "      <td>1</td>\n",
              "    </tr>\n",
              "    <tr>\n",
              "      <th>1</th>\n",
              "      <td>-8.748054</td>\n",
              "      <td>8.078513</td>\n",
              "      <td>0</td>\n",
              "    </tr>\n",
              "    <tr>\n",
              "      <th>2</th>\n",
              "      <td>-7.672387</td>\n",
              "      <td>8.282946</td>\n",
              "      <td>0</td>\n",
              "    </tr>\n",
              "    <tr>\n",
              "      <th>3</th>\n",
              "      <td>10.460580</td>\n",
              "      <td>-2.663949</td>\n",
              "      <td>1</td>\n",
              "    </tr>\n",
              "    <tr>\n",
              "      <th>4</th>\n",
              "      <td>-7.891453</td>\n",
              "      <td>8.755936</td>\n",
              "      <td>0</td>\n",
              "    </tr>\n",
              "    <tr>\n",
              "      <th>5</th>\n",
              "      <td>-7.786408</td>\n",
              "      <td>9.578033</td>\n",
              "      <td>0</td>\n",
              "    </tr>\n",
              "    <tr>\n",
              "      <th>6</th>\n",
              "      <td>10.087225</td>\n",
              "      <td>-4.635672</td>\n",
              "      <td>1</td>\n",
              "    </tr>\n",
              "    <tr>\n",
              "      <th>7</th>\n",
              "      <td>9.287820</td>\n",
              "      <td>-5.779067</td>\n",
              "      <td>1</td>\n",
              "    </tr>\n",
              "    <tr>\n",
              "      <th>8</th>\n",
              "      <td>10.841826</td>\n",
              "      <td>-4.656700</td>\n",
              "      <td>1</td>\n",
              "    </tr>\n",
              "    <tr>\n",
              "      <th>9</th>\n",
              "      <td>-7.197238</td>\n",
              "      <td>9.903781</td>\n",
              "      <td>0</td>\n",
              "    </tr>\n",
              "  </tbody>\n",
              "</table>\n",
              "</div>"
            ],
            "text/plain": [
              "           x         y  label\n",
              "0   9.793724 -2.805985      1\n",
              "1  -8.748054  8.078513      0\n",
              "2  -7.672387  8.282946      0\n",
              "3  10.460580 -2.663949      1\n",
              "4  -7.891453  8.755936      0\n",
              "5  -7.786408  9.578033      0\n",
              "6  10.087225 -4.635672      1\n",
              "7   9.287820 -5.779067      1\n",
              "8  10.841826 -4.656700      1\n",
              "9  -7.197238  9.903781      0"
            ]
          },
          "metadata": {},
          "execution_count": 29
        }
      ]
    },
    {
      "cell_type": "code",
      "metadata": {
        "colab": {
          "base_uri": "https://localhost:8080/",
          "height": 279
        },
        "id": "wqyLkxR4xYLP",
        "outputId": "94fa0a7a-b204-4456-b12d-e116a24c69ac"
      },
      "source": [
        "# two classes\n",
        "colors2 = {0:'orange', 1:'green'}\n",
        "# figure\n",
        "fig2, ax2 = plt.subplots()\n",
        "# new data\n",
        "grouped2 = df_new.groupby('label')\n",
        "# scatter plot\n",
        "for key2, group2 in grouped2:\n",
        "    group2.plot(ax=ax2, kind='scatter', x='x', y='y', label=key2, color=colors2[key2])\n",
        "# show the plot\n",
        "plt.show()"
      ],
      "execution_count": 30,
      "outputs": [
        {
          "output_type": "display_data",
          "data": {
            "image/png": "[encoded data removed]",
            "text/plain": [
              "<Figure size 432x288 with 1 Axes>"
            ]
          },
          "metadata": {
            "needs_background": "light"
          }
        }
      ]
    },
    {
      "cell_type": "code",
      "metadata": {
        "colab": {
          "base_uri": "https://localhost:8080/",
          "height": 336
        },
        "id": "gUfxHcbG3r4p",
        "outputId": "2926cf12-d312-4c00-b3f0-9a16ce6f4b18"
      },
      "source": [
        "# Plotting the new decision boundary \n",
        "# from the LogisticRegression model\n",
        "plot_decision_regions(X_new, y_pred, clf=LR_model, legend=2)"
      ],
      "execution_count": 31,
      "outputs": [
        {
          "output_type": "stream",
          "name": "stderr",
          "text": [
            "/usr/local/lib/python3.7/dist-packages/mlxtend/plotting/decision_regions.py:244: MatplotlibDeprecationWarning: Passing unsupported keyword arguments to axis() will raise a TypeError in 3.3.\n",
            "  ax.axis(xmin=xx.min(), xmax=xx.max(), y_min=yy.min(), y_max=yy.max())\n"
          ]
        },
        {
          "output_type": "execute_result",
          "data": {
            "text/plain": [
              "<matplotlib.axes._subplots.AxesSubplot at 0x7fe0cba9c9d0>"
            ]
          },
          "metadata": {},
          "execution_count": 31
        },
        {
          "output_type": "display_data",
          "data": {
            "image/png": "[encoded data removed]",
            "text/plain": [
              "<Figure size 432x288 with 1 Axes>"
            ]
          },
          "metadata": {
            "needs_background": "light"
          }
        }
      ]
    }
  ]
}
