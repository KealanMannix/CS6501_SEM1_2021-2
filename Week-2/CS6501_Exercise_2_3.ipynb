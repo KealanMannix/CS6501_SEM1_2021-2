{
  "nbformat": 4,
  "nbformat_minor": 0,
  "metadata": {
    "colab": {
      "name": "CS6501_Exercise_2_3.ipynb",
      "provenance": []
    },
    "kernelspec": {
      "name": "python3",
      "display_name": "Python 3"
    },
    "language_info": {
      "name": "python"
    }
  },
  "cells": [
    {
      "cell_type": "markdown",
      "metadata": {
        "id": "LcVMEKIOSIa0"
      },
      "source": [
        "<div>\n",
        "<img src=\"https://drive.google.com/uc?export=view&id=1vK33e_EqaHgBHcbRV_m38hx6IkG0blK_\" width=\"350\"/>\n",
        "</div> \n",
        "\n",
        "#**Artificial Intelligence - MSc**\n",
        "CS6501 - MACHINE LEARNING APPLICATIONS \n",
        "\n",
        "###Instructor: Enrique Naredo\n",
        "###CS6501_Exercise_2.3"
      ]
    },
    {
      "cell_type": "markdown",
      "metadata": {
        "id": "MuZ0F5C9qUmr"
      },
      "source": [
        "## Imports"
      ]
    },
    {
      "cell_type": "code",
      "metadata": {
        "id": "H4759neSP_Kh"
      },
      "source": [
        "# import libraries\n",
        "from sklearn.linear_model import LogisticRegression\n",
        "from pandas import DataFrame\n",
        "from mlxtend.plotting import plot_decision_regions\n",
        "import matplotlib.pyplot as plt\n",
        "import numpy as np"
      ],
      "execution_count": 2,
      "outputs": []
    },
    {
      "cell_type": "markdown",
      "metadata": {
        "id": "oD9H-dnwFN7P"
      },
      "source": [
        "## Real Dataset"
      ]
    },
    {
      "cell_type": "code",
      "metadata": {
        "id": "ceqIrZDXFSTB"
      },
      "source": [
        "from sklearn import datasets\n",
        "\n",
        "# Loading some example data\n",
        "iris = datasets.load_iris()\n",
        "X2 = iris.data[:, [0, 2]]\n",
        "y2 = iris.target"
      ],
      "execution_count": 3,
      "outputs": []
    },
    {
      "cell_type": "code",
      "metadata": {
        "colab": {
          "base_uri": "https://localhost:8080/",
          "height": 279
        },
        "id": "AbIKPoqgFX1H",
        "outputId": "7ba8a553-b7a1-4f3d-a6e2-7d6bee5f1936"
      },
      "source": [
        "# create a data frame\n",
        "df = DataFrame(dict(x=X2[:,0], y=X2[:,1], label=y2))\n",
        "\n",
        "# three classes: 'cyan', 'brown', 2:'yellow'\n",
        "colors = \n",
        "\n",
        "# figure\n",
        "fig, ax = \n",
        "grouped = .groupby('label')\n",
        "\n",
        "# scatter plot\n",
        "\n",
        "\n",
        "# show the plot\n",
        "plt.show()"
      ],
      "execution_count": 16,
      "outputs": [
        {
          "output_type": "display_data",
          "data": {
            "image/png": "[encoded data removed]",
            "text/plain": [
              "<Figure size 432x288 with 1 Axes>"
            ]
          },
          "metadata": {
            "needs_background": "light"
          }
        }
      ]
    },
    {
      "cell_type": "code",
      "metadata": {
        "colab": {
          "base_uri": "https://localhost:8080/",
          "height": 205
        },
        "id": "bFLeyfH0UeW2",
        "outputId": "e010375e-d256-4077-ca5e-bb2c712624f3"
      },
      "source": [
        "# show first 15 rows\n",
        "df.head()"
      ],
      "execution_count": 5,
      "outputs": [
        {
          "output_type": "execute_result",
          "data": {
            "text/html": [
              "<div>\n",
              "<style scoped>\n",
              "    .dataframe tbody tr th:only-of-type {\n",
              "        vertical-align: middle;\n",
              "    }\n",
              "\n",
              "    .dataframe tbody tr th {\n",
              "        vertical-align: top;\n",
              "    }\n",
              "\n",
              "    .dataframe thead th {\n",
              "        text-align: right;\n",
              "    }\n",
              "</style>\n",
              "<table border=\"1\" class=\"dataframe\">\n",
              "  <thead>\n",
              "    <tr style=\"text-align: right;\">\n",
              "      <th></th>\n",
              "      <th>x</th>\n",
              "      <th>y</th>\n",
              "      <th>label</th>\n",
              "    </tr>\n",
              "  </thead>\n",
              "  <tbody>\n",
              "    <tr>\n",
              "      <th>0</th>\n",
              "      <td>5.1</td>\n",
              "      <td>1.4</td>\n",
              "      <td>0</td>\n",
              "    </tr>\n",
              "    <tr>\n",
              "      <th>1</th>\n",
              "      <td>4.9</td>\n",
              "      <td>1.4</td>\n",
              "      <td>0</td>\n",
              "    </tr>\n",
              "    <tr>\n",
              "      <th>2</th>\n",
              "      <td>4.7</td>\n",
              "      <td>1.3</td>\n",
              "      <td>0</td>\n",
              "    </tr>\n",
              "    <tr>\n",
              "      <th>3</th>\n",
              "      <td>4.6</td>\n",
              "      <td>1.5</td>\n",
              "      <td>0</td>\n",
              "    </tr>\n",
              "    <tr>\n",
              "      <th>4</th>\n",
              "      <td>5.0</td>\n",
              "      <td>1.4</td>\n",
              "      <td>0</td>\n",
              "    </tr>\n",
              "  </tbody>\n",
              "</table>\n",
              "</div>"
            ],
            "text/plain": [
              "     x    y  label\n",
              "0  5.1  1.4      0\n",
              "1  4.9  1.4      0\n",
              "2  4.7  1.3      0\n",
              "3  4.6  1.5      0\n",
              "4  5.0  1.4      0"
            ]
          },
          "metadata": {},
          "execution_count": 5
        }
      ]
    },
    {
      "cell_type": "code",
      "metadata": {
        "colab": {
          "base_uri": "https://localhost:8080/"
        },
        "id": "LrM6v2A6pMfb",
        "outputId": "0011de7c-fd7c-4db6-8061-373771147305"
      },
      "source": [
        "# count the data elements for each class\n",
        "df['label']."
      ],
      "execution_count": 6,
      "outputs": [
        {
          "output_type": "execute_result",
          "data": {
            "text/plain": [
              "2    50\n",
              "1    50\n",
              "0    50\n",
              "Name: label, dtype: int64"
            ]
          },
          "metadata": {},
          "execution_count": 6
        }
      ]
    },
    {
      "cell_type": "markdown",
      "metadata": {
        "id": "2PMoPLlUJ1Ly"
      },
      "source": [
        "## Training & Test Data"
      ]
    },
    {
      "cell_type": "code",
      "metadata": {
        "id": "loLTHklwKGnV"
      },
      "source": [
        "from sklearn.model_selection import train_test_split\n",
        "\n",
        "# training: 70%-30% \n",
        "X_train,X_test,y_train,y_test =\n"
      ],
      "execution_count": 17,
      "outputs": []
    },
    {
      "cell_type": "code",
      "metadata": {
        "colab": {
          "base_uri": "https://localhost:8080/"
        },
        "id": "iVpqFCGeNNBB",
        "outputId": "57fbd2fd-4ff5-490e-eb6a-9a0ee4b65f40"
      },
      "source": [
        "X_train[0:10]"
      ],
      "execution_count": 8,
      "outputs": [
        {
          "output_type": "execute_result",
          "data": {
            "text/plain": [
              "array([[6.2, 4.3],\n",
              "       [6.5, 5.1],\n",
              "       [7.6, 6.6],\n",
              "       [4.8, 1.9],\n",
              "       [4.8, 1.6],\n",
              "       [6.7, 5.6],\n",
              "       [5.6, 4.9],\n",
              "       [5. , 1.4],\n",
              "       [4.6, 1. ],\n",
              "       [6.9, 5.7]])"
            ]
          },
          "metadata": {},
          "execution_count": 8
        }
      ]
    },
    {
      "cell_type": "markdown",
      "metadata": {
        "id": "_ZZS9l69qwVJ"
      },
      "source": [
        "## Logistic Regresion"
      ]
    },
    {
      "cell_type": "markdown",
      "metadata": {
        "id": "IIgx7MOprsnT"
      },
      "source": [
        "* [Logistic regression](https://en.wikipedia.org/wiki/Logistic_regression) is a statistical model that in its basic form uses a logistic function to model a binary dependent variable, although many more complex extensions exist. \n",
        "* In regression analysis, logistic regression (or logit regression) is estimating the parameters of a logistic model (a form of binary regression). \n",
        "\n",
        "\n"
      ]
    },
    {
      "cell_type": "code",
      "metadata": {
        "colab": {
          "base_uri": "https://localhost:8080/"
        },
        "id": "HsRi3LDyNyKI",
        "outputId": "942062cd-6ec9-4c2a-98a9-92dff4815bf3"
      },
      "source": [
        "# Logistic Regression model\n",
        "LR_model = LogisticRegression()\n",
        "\n",
        "# fit to data a Logistic Regresion model\n",
        "LR_model.fit()"
      ],
      "execution_count": 9,
      "outputs": [
        {
          "output_type": "execute_result",
          "data": {
            "text/plain": [
              "LogisticRegression(C=1.0, class_weight=None, dual=False, fit_intercept=True,\n",
              "                   intercept_scaling=1, l1_ratio=None, max_iter=100,\n",
              "                   multi_class='auto', n_jobs=None, penalty='l2',\n",
              "                   random_state=None, solver='lbfgs', tol=0.0001, verbose=0,\n",
              "                   warm_start=False)"
            ]
          },
          "metadata": {},
          "execution_count": 9
        }
      ]
    },
    {
      "cell_type": "markdown",
      "metadata": {
        "id": "HhoTcXVzqOHl"
      },
      "source": [
        "Decision boundary from [Wikipedia](https://en.wikipedia.org/wiki/Decision_boundary): \n",
        "\n",
        "* A decision boundary is the region of a problem space in \n",
        "which the output label of a classifier is ambiguous.\n",
        "\n",
        "* If the decision surface is a hyperplane, then the classification problem is linear, and the classes are linearly separable.\n",
        "\n",
        "* In a statistical-classification problem with two classes, a decision boundary or decision surface is a hypersurface that partitions the underlying vector space into two sets, one for each class.\n",
        "\n",
        "* You can find a related information to this topic in this [publication](https://towardsdatascience.com/classification-problems-and-exploring-decision-boundaries-3317e03afcdb)\n",
        "\n",
        "\n"
      ]
    },
    {
      "cell_type": "code",
      "metadata": {
        "colab": {
          "base_uri": "https://localhost:8080/",
          "height": 336
        },
        "id": "8jMzZwuqgyYv",
        "outputId": "59a3232d-52a1-4a74-c6da-ce27feadcdf4"
      },
      "source": [
        "# Plotting the decision boundary \n",
        "# from the LogisticRegression model\n",
        "plot_decision_regions()\n"
      ],
      "execution_count": 10,
      "outputs": [
        {
          "output_type": "stream",
          "name": "stderr",
          "text": [
            "/usr/local/lib/python3.7/dist-packages/mlxtend/plotting/decision_regions.py:244: MatplotlibDeprecationWarning: Passing unsupported keyword arguments to axis() will raise a TypeError in 3.3.\n",
            "  ax.axis(xmin=xx.min(), xmax=xx.max(), y_min=yy.min(), y_max=yy.max())\n"
          ]
        },
        {
          "output_type": "execute_result",
          "data": {
            "text/plain": [
              "<matplotlib.axes._subplots.AxesSubplot at 0x7fc2561e3590>"
            ]
          },
          "metadata": {},
          "execution_count": 10
        },
        {
          "output_type": "display_data",
          "data": {
            "image/png": "[encoded data removed]",
            "text/plain": [
              "<Figure size 432x288 with 1 Axes>"
            ]
          },
          "metadata": {
            "needs_background": "light"
          }
        }
      ]
    },
    {
      "cell_type": "markdown",
      "metadata": {
        "id": "34ZOLzB_rFrK"
      },
      "source": [
        "## Predictions"
      ]
    },
    {
      "cell_type": "code",
      "metadata": {
        "colab": {
          "base_uri": "https://localhost:8080/"
        },
        "id": "Rn2NQt61O7nA",
        "outputId": "4e01ee49-db63-499a-9b80-61d6c8ccdd5f"
      },
      "source": [
        "# make predictions (assign class labels)\n",
        "y_pred = \n",
        "\n",
        "# show the inputs and predicted outputs\n",
        "for i in range(len()):\n",
        "  "
      ],
      "execution_count": 11,
      "outputs": [
        {
          "output_type": "stream",
          "name": "stdout",
          "text": [
            "X0 = [5.8 5.1], Class Predicted = 2\n",
            "X1 = [6.8 5.9], Class Predicted = 2\n",
            "X2 = [7.7 6.7], Class Predicted = 2\n",
            "X3 = [4.6 1.4], Class Predicted = 0\n",
            "X4 = [7.9 6.4], Class Predicted = 2\n",
            "X5 = [5.1 1.4], Class Predicted = 0\n",
            "X6 = [6. 4.], Class Predicted = 1\n",
            "X7 = [5.4 1.7], Class Predicted = 0\n",
            "X8 = [5.7 4.5], Class Predicted = 1\n",
            "X9 = [5.7 5. ], Class Predicted = 2\n",
            "X10 = [7.2 5.8], Class Predicted = 2\n",
            "X11 = [6.7 5. ], Class Predicted = 2\n",
            "X12 = [4.9 1.5], Class Predicted = 0\n",
            "X13 = [6.4 5.3], Class Predicted = 2\n",
            "X14 = [5.7 1.7], Class Predicted = 0\n",
            "X15 = [4.9 4.5], Class Predicted = 1\n",
            "X16 = [6.1 5.6], Class Predicted = 2\n",
            "X17 = [6.1 4. ], Class Predicted = 1\n",
            "X18 = [5.6 4.1], Class Predicted = 1\n",
            "X19 = [5.1 1.9], Class Predicted = 0\n",
            "X20 = [5.6 4.5], Class Predicted = 1\n",
            "X21 = [6.4 5.6], Class Predicted = 2\n",
            "X22 = [5.  3.3], Class Predicted = 1\n",
            "X23 = [5.9 4.8], Class Predicted = 1\n",
            "X24 = [5.6 3.6], Class Predicted = 1\n",
            "X25 = [6.1 4.6], Class Predicted = 1\n",
            "X26 = [5.1 1.7], Class Predicted = 0\n",
            "X27 = [6.  4.8], Class Predicted = 1\n",
            "X28 = [6.5 5.2], Class Predicted = 2\n",
            "X29 = [7.2 6. ], Class Predicted = 2\n"
          ]
        }
      ]
    },
    {
      "cell_type": "code",
      "metadata": {
        "id": "ej4fLLOa2tth"
      },
      "source": [
        "# create a data frame\n",
        "df_new = DataFrame()"
      ],
      "execution_count": 12,
      "outputs": []
    },
    {
      "cell_type": "code",
      "metadata": {
        "colab": {
          "base_uri": "https://localhost:8080/",
          "height": 362
        },
        "id": "wbEc5UPp0mmH",
        "outputId": "cc9db85a-960a-441a-a741-0a1bc7af9ec3"
      },
      "source": [
        "# show 12 rows \n",
        "df_new.head(_)"
      ],
      "execution_count": 13,
      "outputs": [
        {
          "output_type": "execute_result",
          "data": {
            "text/html": [
              "<div>\n",
              "<style scoped>\n",
              "    .dataframe tbody tr th:only-of-type {\n",
              "        vertical-align: middle;\n",
              "    }\n",
              "\n",
              "    .dataframe tbody tr th {\n",
              "        vertical-align: top;\n",
              "    }\n",
              "\n",
              "    .dataframe thead th {\n",
              "        text-align: right;\n",
              "    }\n",
              "</style>\n",
              "<table border=\"1\" class=\"dataframe\">\n",
              "  <thead>\n",
              "    <tr style=\"text-align: right;\">\n",
              "      <th></th>\n",
              "      <th>x</th>\n",
              "      <th>y</th>\n",
              "      <th>label</th>\n",
              "    </tr>\n",
              "  </thead>\n",
              "  <tbody>\n",
              "    <tr>\n",
              "      <th>0</th>\n",
              "      <td>5.8</td>\n",
              "      <td>5.1</td>\n",
              "      <td>2</td>\n",
              "    </tr>\n",
              "    <tr>\n",
              "      <th>1</th>\n",
              "      <td>6.8</td>\n",
              "      <td>5.9</td>\n",
              "      <td>2</td>\n",
              "    </tr>\n",
              "    <tr>\n",
              "      <th>2</th>\n",
              "      <td>7.7</td>\n",
              "      <td>6.7</td>\n",
              "      <td>2</td>\n",
              "    </tr>\n",
              "    <tr>\n",
              "      <th>3</th>\n",
              "      <td>4.6</td>\n",
              "      <td>1.4</td>\n",
              "      <td>0</td>\n",
              "    </tr>\n",
              "    <tr>\n",
              "      <th>4</th>\n",
              "      <td>7.9</td>\n",
              "      <td>6.4</td>\n",
              "      <td>2</td>\n",
              "    </tr>\n",
              "    <tr>\n",
              "      <th>5</th>\n",
              "      <td>5.1</td>\n",
              "      <td>1.4</td>\n",
              "      <td>0</td>\n",
              "    </tr>\n",
              "    <tr>\n",
              "      <th>6</th>\n",
              "      <td>6.0</td>\n",
              "      <td>4.0</td>\n",
              "      <td>1</td>\n",
              "    </tr>\n",
              "    <tr>\n",
              "      <th>7</th>\n",
              "      <td>5.4</td>\n",
              "      <td>1.7</td>\n",
              "      <td>0</td>\n",
              "    </tr>\n",
              "    <tr>\n",
              "      <th>8</th>\n",
              "      <td>5.7</td>\n",
              "      <td>4.5</td>\n",
              "      <td>1</td>\n",
              "    </tr>\n",
              "    <tr>\n",
              "      <th>9</th>\n",
              "      <td>5.7</td>\n",
              "      <td>5.0</td>\n",
              "      <td>2</td>\n",
              "    </tr>\n",
              "  </tbody>\n",
              "</table>\n",
              "</div>"
            ],
            "text/plain": [
              "     x    y  label\n",
              "0  5.8  5.1      2\n",
              "1  6.8  5.9      2\n",
              "2  7.7  6.7      2\n",
              "3  4.6  1.4      0\n",
              "4  7.9  6.4      2\n",
              "5  5.1  1.4      0\n",
              "6  6.0  4.0      1\n",
              "7  5.4  1.7      0\n",
              "8  5.7  4.5      1\n",
              "9  5.7  5.0      2"
            ]
          },
          "metadata": {},
          "execution_count": 13
        }
      ]
    },
    {
      "cell_type": "code",
      "metadata": {
        "colab": {
          "base_uri": "https://localhost:8080/",
          "height": 279
        },
        "id": "wqyLkxR4xYLP",
        "outputId": "849954c2-2cb5-448b-c7ef-e5b93be33439"
      },
      "source": [
        "# three classes: 'red', 'blue', 'green'\n",
        "\n",
        "# figure\n",
        "fig2, ax2 \n",
        "\n",
        "# new data\n",
        "grouped = df_new.groupby()\n",
        "\n",
        "# scatter plot\n",
        "for key2, group2 in :\n",
        "\n",
        "\n",
        "# show the plot\n",
        "plt.show()"
      ],
      "execution_count": 14,
      "outputs": [
        {
          "output_type": "display_data",
          "data": {
            "image/png": "[encoded data removed]",
            "text/plain": [
              "<Figure size 432x288 with 1 Axes>"
            ]
          },
          "metadata": {
            "needs_background": "light"
          }
        }
      ]
    },
    {
      "cell_type": "code",
      "metadata": {
        "colab": {
          "base_uri": "https://localhost:8080/",
          "height": 336
        },
        "id": "gUfxHcbG3r4p",
        "outputId": "c7e561fc-f7c8-4839-83d1-e5c636dd6109"
      },
      "source": [
        "# Plotting the new decision boundary \n",
        "# from the LogisticRegression model\n",
        "plot_decision_regions(X_test, y_pred, clf= , legend= )"
      ],
      "execution_count": 15,
      "outputs": [
        {
          "output_type": "stream",
          "name": "stderr",
          "text": [
            "/usr/local/lib/python3.7/dist-packages/mlxtend/plotting/decision_regions.py:244: MatplotlibDeprecationWarning: Passing unsupported keyword arguments to axis() will raise a TypeError in 3.3.\n",
            "  ax.axis(xmin=xx.min(), xmax=xx.max(), y_min=yy.min(), y_max=yy.max())\n"
          ]
        },
        {
          "output_type": "execute_result",
          "data": {
            "text/plain": [
              "<matplotlib.axes._subplots.AxesSubplot at 0x7fc24da168d0>"
            ]
          },
          "metadata": {},
          "execution_count": 15
        },
        {
          "output_type": "display_data",
          "data": {
            "image/png": "[encoded data removed]",
            "text/plain": [
              "<Figure size 432x288 with 1 Axes>"
            ]
          },
          "metadata": {
            "needs_background": "light"
          }
        }
      ]
    }
  ]
}
