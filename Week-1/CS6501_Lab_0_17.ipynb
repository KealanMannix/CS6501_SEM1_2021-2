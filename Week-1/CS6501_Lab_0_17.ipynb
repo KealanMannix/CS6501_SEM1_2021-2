{
  "nbformat": 4,
  "nbformat_minor": 0,
  "metadata": {
    "colab": {
      "name": "CS6501_Lab-0_17.ipynb",
      "provenance": []
    },
    "kernelspec": {
      "name": "python3",
      "display_name": "Python 3"
    },
    "language_info": {
      "name": "python"
    }
  },
  "cells": [
    {
      "cell_type": "markdown",
      "metadata": {
        "id": "xDKIjqUaI69h"
      },
      "source": [
        "<div>\n",
        "<img src=\"https://drive.google.com/uc?export=view&id=1vK33e_EqaHgBHcbRV_m38hx6IkG0blK_\" width=\"350\"/>\n",
        "</div> \n",
        "\n",
        "#**Artificial Intelligence - MSc**\n",
        "CS6501 - MACHINE LEARNING AND APPLICATIONS \n",
        "\n",
        "###Instructor: Enrique Naredo\n",
        "###CS6501_Lab-0.17_sol\n",
        "\n",
        "#**Extra Pandas problems**"
      ]
    },
    {
      "cell_type": "code",
      "metadata": {
        "id": "4XteONLD7v9_"
      },
      "source": [
        "import pandas as pd\n",
        "import numpy as np"
      ],
      "execution_count": null,
      "outputs": []
    },
    {
      "cell_type": "markdown",
      "metadata": {
        "id": "gRbds0ey3HEP"
      },
      "source": [
        "## Problem 11\n",
        "\n",
        "From `ser`, extract the items at positions in list `pos`.\n",
        "\n",
        "Input:\n",
        "\n",
        "`ser = pd.Series(list('abcdefghijklmnopqrstuvwxyz'))`\n",
        "\n",
        "`pos = [0, 4, 8, 14, 20]`"
      ]
    },
    {
      "cell_type": "markdown",
      "metadata": {
        "id": "gIIIT_FBJbuE"
      },
      "source": [
        "## Problem 12\n",
        "\n",
        "Get the positions of items of `ser2` in `ser1` as a list.\n",
        "\n",
        "Input:\n",
        "\n",
        "`ser1 = pd.Series([10, 9, 6, 5, 3, 1, 12, 8, 13])`\n",
        "\n",
        "`ser2 = pd.Series([1, 3, 10, 13])`"
      ]
    },
    {
      "cell_type": "markdown",
      "metadata": {
        "id": "pPdzBnVz3QzM"
      },
      "source": [
        "## Problem 13\n",
        "\n",
        "Compute the mean squared error of truth and pred series.\n",
        "\n",
        "Input:\n",
        "\n",
        "`truth = pd.Series(range(10))`\n",
        "\n",
        "`pred = pd.Series(range(10)) + np.random.random(10)`"
      ]
    },
    {
      "cell_type": "markdown",
      "metadata": {
        "id": "YQtmklEc3Uz8"
      },
      "source": [
        "## Problem 14\n",
        "\n",
        "Change the first character of each word to upper case in each word of `ser`.\n",
        "\n",
        "Input:\n",
        "\n",
        "`ser = pd.Series(['how', 'to', 'kick', 'ass?'])`"
      ]
    },
    {
      "cell_type": "markdown",
      "metadata": {
        "id": "m5Qo4J-Z3VuE"
      },
      "source": [
        "## Problem 15\n",
        "\n",
        "Calculate the number of characters in each word in `ser`.\n",
        "\n",
        "Input:\n",
        "\n",
        "`ser = pd.Series(['how', 'to', 'kick', 'ass?'])`\n"
      ]
    },
    {
      "cell_type": "markdown",
      "metadata": {
        "id": "5S17OHj63Wc1"
      },
      "source": [
        "## Problem 16\n",
        "\n",
        "From `ser`, extract words that contain at least 2 vowels.\n",
        "\n",
        "Input:\n",
        "\n",
        "`ser = pd.Series(['Apple', 'Orange', 'Plan', 'Python', 'Money'])`\n"
      ]
    },
    {
      "cell_type": "markdown",
      "metadata": {
        "id": "_ymdLB0s3Xbe"
      },
      "source": [
        "## Problem 17\n",
        "\n",
        "Compute the mean of weights of each fruit.\n",
        "\n",
        "Input:\n",
        "\n",
        "`fruit = pd.Series(np.random.choice(['apple', 'banana', 'carrot'], 10))`\n",
        "\n",
        "`weights = pd.Series(np.linspace(1, 10, 10))`"
      ]
    },
    {
      "cell_type": "markdown",
      "metadata": {
        "id": "aVZfb9513Ybf"
      },
      "source": [
        "## Problem 18\n",
        "\n",
        "Replace the spaces in my_str with the least frequent character.\n",
        "\n",
        "Input:\n",
        "\n",
        "`my_str = 'dbc deb abed gade'`\n"
      ]
    },
    {
      "cell_type": "markdown",
      "metadata": {
        "id": "xzpB7TGm3ZUM"
      },
      "source": [
        "## Problem 19\n",
        "\n",
        "Rename the column Type as CarType in df and replace the ‘.’ in column names with ‘_’.\n",
        "\n",
        "Input:\n",
        "\n",
        "`df = pd.read_csv('https://raw.githubusercontent.com/selva86/datasets/master/Cars93_miss.csv')`"
      ]
    },
    {
      "cell_type": "markdown",
      "metadata": {
        "id": "LXdQeKks3aMk"
      },
      "source": [
        "## Problem 20\n",
        "\n",
        "Get the first column (a) in `df` as a dataframe (rather than as a Series).\n",
        "\n",
        "Input:\n",
        "\n",
        "`df = pd.DataFrame(np.arange(20).reshape(-1, 5), columns=list('abcde'))`"
      ]
    }
  ]
}