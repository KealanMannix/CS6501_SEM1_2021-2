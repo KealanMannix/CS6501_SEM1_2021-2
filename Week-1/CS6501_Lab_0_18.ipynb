{
  "nbformat": 4,
  "nbformat_minor": 0,
  "metadata": {
    "colab": {
      "name": "CS6501_Lab-0_18.ipynb",
      "provenance": []
    },
    "kernelspec": {
      "name": "python3",
      "display_name": "Python 3"
    },
    "language_info": {
      "name": "python"
    }
  },
  "cells": [
    {
      "cell_type": "markdown",
      "metadata": {
        "id": "xDKIjqUaI69h"
      },
      "source": [
        "<div>\n",
        "<img src=\"https://drive.google.com/uc?export=view&id=1vK33e_EqaHgBHcbRV_m38hx6IkG0blK_\" width=\"350\"/>\n",
        "</div> \n",
        "\n",
        "#**Artificial Intelligence - MSc**\n",
        "CS6501 - MACHINE LEARNING AND APPLICATIONS \n",
        "\n",
        "###Instructor: Enrique Naredo\n",
        "###CS6501_Lab-0.18_sol\n",
        "\n",
        "#**Extra Pandas problems**"
      ]
    },
    {
      "cell_type": "code",
      "metadata": {
        "id": "2HHCJ01DQMji"
      },
      "source": [
        "import numpy as np\n",
        "import pandas as pd"
      ],
      "execution_count": null,
      "outputs": []
    },
    {
      "cell_type": "markdown",
      "metadata": {
        "id": "gRbds0ey3HEP"
      },
      "source": [
        "## Problem 21\n",
        "\n",
        "Import every 50th row of [BostonHousing](https://raw.githubusercontent.com/selva86/datasets/master/BostonHousing.csv) dataset as a dataframe."
      ]
    },
    {
      "cell_type": "markdown",
      "metadata": {
        "id": "gIIIT_FBJbuE"
      },
      "source": [
        "## Problem 22\n",
        "\n",
        "Import the boston housing dataset, but while importing change the `medv` (median house value) column so that values < 25 becomes ‘Low’ and > 25 becomes ‘High’."
      ]
    },
    {
      "cell_type": "markdown",
      "metadata": {
        "id": "pPdzBnVz3QzM"
      },
      "source": [
        "## Problem 23\n",
        "\n",
        "Import `crim` and `medv` columns of the BostonHousing dataset as a dataframe."
      ]
    },
    {
      "cell_type": "markdown",
      "metadata": {
        "id": "YQtmklEc3Uz8"
      },
      "source": [
        "## Problem 24\n",
        "\n",
        "\n",
        "In df, interchange columns `a` and `c`.\n",
        "\n",
        "Create a generic function to interchange two columns, without hardcoding column names.\n",
        "\n",
        "Sort the columns in reverse alphabetical order, that is colume `e` first through column `a` last.\n",
        "\n",
        "Input:\n",
        "\n",
        "`df = pd.DataFrame(np.arange(20).reshape(-1, 5), columns=list('abcde'))`\n",
        "\n"
      ]
    },
    {
      "cell_type": "markdown",
      "metadata": {
        "id": "m5Qo4J-Z3VuE"
      },
      "source": [
        "## Problem 25\n",
        "\n",
        "Format the values in column `random` of `df` as percentages.\n",
        "\n",
        "`df = pd.DataFrame(np.random.random(4), columns=['random'])`"
      ]
    },
    {
      "cell_type": "markdown",
      "metadata": {
        "id": "5S17OHj63Wc1"
      },
      "source": [
        "## Problem 26\n",
        "\n",
        "Find the row position of the 5th largest value of column `a` in `df`.\n",
        "\n",
        "Input:\n",
        "\n",
        "`df = pd.DataFrame(np.random.randint(1, 30, 30).reshape(10,-1), columns=list('abc'))`\n"
      ]
    },
    {
      "cell_type": "markdown",
      "metadata": {
        "id": "_ymdLB0s3Xbe"
      },
      "source": [
        "## Problem 27\n",
        "\n",
        "Get the last two rows of `df` whose row sum is greater than 100.\n",
        "\n",
        "`df = pd.DataFrame(np.random.randint(10, 40, 60).reshape(-1, 4))`\n",
        "\n"
      ]
    },
    {
      "cell_type": "markdown",
      "metadata": {
        "id": "aVZfb9513Ybf"
      },
      "source": [
        "## Problem 28\n",
        "\n",
        "Reshape `df` to the largest possible square with negative values removed. Drop the smallest values if need be. The order of the positive numbers in the result should remain the same as the original.\n",
        "\n",
        "Input:\n",
        "\n",
        "`df = pd.DataFrame(np.random.randint(-20, 50, 100).reshape(10,-1))`\n",
        "\n"
      ]
    },
    {
      "cell_type": "markdown",
      "metadata": {
        "id": "xzpB7TGm3ZUM"
      },
      "source": [
        "## Problem 29\n",
        "\n",
        "Swap rows 1 and 2 in `df`.\n",
        "\n",
        "Input:\n",
        "\n",
        "`df = pd.DataFrame(np.arange(25).reshape(5, -1))`\n",
        "\n"
      ]
    },
    {
      "cell_type": "markdown",
      "metadata": {
        "id": "LXdQeKks3aMk"
      },
      "source": [
        "## Problem 30\n",
        "\n",
        "Reverse all the rows of dataframe `df`.\n",
        "\n",
        "Input:\n",
        "\n",
        "`df = pd.DataFrame(np.arange(25).reshape(5, -1))`\n"
      ]
    }
  ]
}