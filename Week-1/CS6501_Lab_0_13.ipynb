{
  "nbformat": 4,
  "nbformat_minor": 0,
  "metadata": {
    "colab": {
      "name": "CS6501_Lab-0_13.ipynb",
      "provenance": [],
      "collapsed_sections": []
    },
    "kernelspec": {
      "name": "python3",
      "display_name": "Python 3"
    },
    "language_info": {
      "name": "python"
    }
  },
  "cells": [
    {
      "cell_type": "markdown",
      "metadata": {
        "id": "xDKIjqUaI69h"
      },
      "source": [
        "<div>\n",
        "<img src=\"https://drive.google.com/uc?export=view&id=1vK33e_EqaHgBHcbRV_m38hx6IkG0blK_\" width=\"350\"/>\n",
        "</div> \n",
        "\n",
        "#**Artificial Intelligence - MSc**\n",
        "CS6501 - MACHINE LEARNING AND APPLICATIONS \n",
        "\n",
        "###Instructor: Enrique Naredo\n",
        "###CS6501_Lab-0.13_sol\n",
        "\n",
        "#**Extra Numpy problems**"
      ]
    },
    {
      "cell_type": "markdown",
      "metadata": {
        "id": "gRbds0ey3HEP"
      },
      "source": [
        "## Problem 1 \n",
        "\n",
        "Import numpy as np and print the version number."
      ]
    },
    {
      "cell_type": "code",
      "metadata": {
        "id": "fo2DdfkV9J3f"
      },
      "source": [
        "import numpy as np\n",
        "print(np.__version__)"
      ],
      "execution_count": null,
      "outputs": []
    },
    {
      "cell_type": "markdown",
      "metadata": {
        "id": "gIIIT_FBJbuE"
      },
      "source": [
        "## Problem 2\n",
        "\n",
        "Create a 3×3 numpy array of all True’s"
      ]
    },
    {
      "cell_type": "markdown",
      "metadata": {
        "id": "pPdzBnVz3QzM"
      },
      "source": [
        "## Problem 3\n",
        "\n",
        "Extract all odd numbers from a 1D array"
      ]
    },
    {
      "cell_type": "markdown",
      "metadata": {
        "id": "YQtmklEc3Uz8"
      },
      "source": [
        "## Problem 4\n",
        "\n",
        "Replace all odd numbers in a 1D array with -1"
      ]
    },
    {
      "cell_type": "markdown",
      "metadata": {
        "id": "m5Qo4J-Z3VuE"
      },
      "source": [
        "## Problem 5\n",
        "\n",
        "Convert a 1D array to a 2D array with 2 rows"
      ]
    },
    {
      "cell_type": "markdown",
      "metadata": {
        "id": "5S17OHj63Wc1"
      },
      "source": [
        "## Problem 6\n",
        "\n",
        "Create the following pattern without hardcoding. Use only numpy functions and the below input array a.\n",
        "\n",
        "Input:\n",
        "\n",
        "`a = np.array([1,2,3])`\n",
        "\n",
        "Desired Output:\n",
        "\n",
        "`array([1, 1, 1, 2, 2, 2, 3, 3, 3, 1, 2, 3, 1, 2, 3, 1, 2, 3])`"
      ]
    },
    {
      "cell_type": "markdown",
      "metadata": {
        "id": "_ymdLB0s3Xbe"
      },
      "source": [
        "## Problem 7\n",
        "\n",
        "Get the common items between a and b\n",
        "\n",
        "Input:\n",
        "\n",
        "`a = np.array([1,2,3,2,3,4,3,4,5,6])`\n",
        "\n",
        "`b = np.array([7,2,10,2,7,4,9,4,9,8])`\n",
        "\n",
        "Desired Output:\n",
        "\n",
        "`array([2, 4])`"
      ]
    },
    {
      "cell_type": "markdown",
      "metadata": {
        "id": "aVZfb9513Ybf"
      },
      "source": [
        "## Problem 8\n",
        "\n",
        "From array a remove all items present in array b\n",
        "\n",
        "Input:\n",
        "\n",
        "`a = np.array([1,2,3,4,5])`\n",
        "\n",
        "`b = np.array([5,6,7,8,9])`\n",
        "\n",
        "Desired Output:\n",
        "\n",
        "`array([1,2,3,4])`"
      ]
    },
    {
      "cell_type": "markdown",
      "metadata": {
        "id": "xzpB7TGm3ZUM"
      },
      "source": [
        "## Problem 9\n",
        "\n",
        "Get the positions where elements of a and b match\n",
        "\n",
        "Input:\n",
        "\n",
        "`a = np.array([1,2,3,2,3,4,3,4,5,6])`\n",
        "\n",
        "`b = np.array([7,2,10,2,7,4,9,4,9,8])`\n",
        "\n",
        "Desired Output:\n",
        "\n",
        "`(array([1, 3, 5, 7]),)`"
      ]
    },
    {
      "cell_type": "markdown",
      "metadata": {
        "id": "LXdQeKks3aMk"
      },
      "source": [
        "## Problem 10\n",
        "\n",
        "Get all items between 5 and 10 from a.\n",
        "\n",
        "Input:\n",
        "\n",
        "`a = np.array([2, 6, 1, 9, 10, 3, 27])`\n",
        "\n",
        "Desired Output:\n",
        "\n",
        "`array([6, 9, 10])`"
      ]
    }
  ]
}