{
  "nbformat": 4,
  "nbformat_minor": 0,
  "metadata": {
    "colab": {
      "name": "CS6501_Lab-0_16.ipynb",
      "provenance": [],
      "collapsed_sections": []
    },
    "kernelspec": {
      "name": "python3",
      "display_name": "Python 3"
    },
    "language_info": {
      "name": "python"
    }
  },
  "cells": [
    {
      "cell_type": "markdown",
      "metadata": {
        "id": "xDKIjqUaI69h"
      },
      "source": [
        "<div>\n",
        "<img src=\"https://drive.google.com/uc?export=view&id=1vK33e_EqaHgBHcbRV_m38hx6IkG0blK_\" width=\"350\"/>\n",
        "</div> \n",
        "\n",
        "#**Artificial Intelligence - MSc**\n",
        "CS6501 - MACHINE LEARNING AND APPLICATIONS \n",
        "\n",
        "###Instructor: Enrique Naredo\n",
        "###CS6501_Lab-0.16_sol\n",
        "\n",
        "#**Extra Pandas problems**"
      ]
    },
    {
      "cell_type": "markdown",
      "metadata": {
        "id": "gRbds0ey3HEP"
      },
      "source": [
        "## Problem 1 \n",
        "\n",
        "Import pandas as pd and print the version number."
      ]
    },
    {
      "cell_type": "code",
      "metadata": {
        "id": "cRNNlsz33KHt",
        "colab": {
          "base_uri": "https://localhost:8080/"
        },
        "outputId": "367fef5e-1e6c-4a56-8f17-f1aa2625f299"
      },
      "source": [
        "import pandas as pd\n",
        "print(pd.__version__)"
      ],
      "execution_count": null,
      "outputs": [
        {
          "output_type": "stream",
          "name": "stdout",
          "text": [
            "1.1.5\n"
          ]
        }
      ]
    },
    {
      "cell_type": "markdown",
      "metadata": {
        "id": "gIIIT_FBJbuE"
      },
      "source": [
        "## Problem 2\n",
        "\n",
        "Create a pandas series from each of the items below: a list, numpy and a dictionary\n",
        "\n",
        "Input:\n",
        "\n",
        "`mylist = list('abcedfghijklmnopqrstuvwxyz')`\n",
        "\n",
        "`myarr = np.arange(26)`\n",
        "\n",
        "`mydict = dict(zip(mylist, myarr))`"
      ]
    },
    {
      "cell_type": "markdown",
      "metadata": {
        "id": "pPdzBnVz3QzM"
      },
      "source": [
        "## Problem 3\n",
        "\n",
        "Convert the series `ser` into a dataframe with its index as another column on the dataframe.\n",
        "\n",
        "Input:\n",
        "\n",
        "`mylist = list('abcedfghijklmnopqrstuvwxyz')`\n",
        "\n",
        "`myarr = np.arange(26)`\n",
        "\n",
        "`mydict = dict(zip(mylist, myarr))`\n",
        "\n",
        "`ser = pd.Series(mydict)`"
      ]
    },
    {
      "cell_type": "markdown",
      "metadata": {
        "id": "YQtmklEc3Uz8"
      },
      "source": [
        "## Problem 4\n",
        "\n",
        "Combine `ser1` and `ser2` to form a dataframe.\n",
        "\n",
        "Input:\n",
        "\n",
        "`ser1 = pd.Series(list('abcedfghijklmnopqrstuvwxyz'))`\n",
        "\n",
        "`ser2 = pd.Series(np.arange(26))`"
      ]
    },
    {
      "cell_type": "markdown",
      "metadata": {
        "id": "m5Qo4J-Z3VuE"
      },
      "source": [
        "## Problem 5\n",
        "\n",
        "Give a name to the series ser calling it ‘alphabets’.\n",
        "\n",
        "`ser = pd.Series(list('abcedfghijklmnopqrstuvwxyz'))`"
      ]
    },
    {
      "cell_type": "markdown",
      "metadata": {
        "id": "5S17OHj63Wc1"
      },
      "source": [
        "## Problem 6\n",
        "\n",
        "From `ser1` remove items present in `ser2`.\n",
        "\n",
        "Input:\n",
        "\n",
        "`ser1 = pd.Series([1, 2, 3, 4, 5])`\n",
        "\n",
        "`ser2 = pd.Series([4, 5, 6, 7, 8])`"
      ]
    },
    {
      "cell_type": "markdown",
      "metadata": {
        "id": "_ymdLB0s3Xbe"
      },
      "source": [
        "## Problem 7\n",
        "\n",
        "Get all items of `ser1` and `ser2` not common to both.\n",
        "\n",
        "Input:\n",
        "\n",
        "`ser1 = pd.Series([1, 2, 3, 4, 5])`\n",
        "\n",
        "`ser2 = pd.Series([4, 5, 6, 7, 8])`"
      ]
    },
    {
      "cell_type": "markdown",
      "metadata": {
        "id": "aVZfb9513Ybf"
      },
      "source": [
        "## Problem 8\n",
        "\n",
        "Calculte the frequency counts of each unique value `ser`.\n",
        "\n",
        "Input:\n",
        "\n",
        "`ser = pd.Series(np.take(list('abcdefgh'), np.random.randint(8, size=30)))`\n"
      ]
    },
    {
      "cell_type": "markdown",
      "metadata": {
        "id": "xzpB7TGm3ZUM"
      },
      "source": [
        "## Problem 9\n",
        "\n",
        "From `ser`, keep the top 2 most frequent items as it is and replace everything else as ‘Other’.\n",
        "\n",
        "Input:\n",
        "\n",
        "`ser = pd.Series(np.random.randint(1, 5, [12]))`\n"
      ]
    },
    {
      "cell_type": "markdown",
      "metadata": {
        "id": "LXdQeKks3aMk"
      },
      "source": [
        "## Problem 10\n",
        "\n",
        "Reshape the series `ser` into a dataframe with 7 rows and 5 columns\n",
        "\n",
        "Input:\n",
        "\n",
        "`ser = pd.Series(np.random.randint(1, 10, 35))`"
      ]
    }
  ]
}