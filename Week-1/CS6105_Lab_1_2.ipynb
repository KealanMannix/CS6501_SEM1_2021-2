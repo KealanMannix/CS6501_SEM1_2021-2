{
  "nbformat": 4,
  "nbformat_minor": 0,
  "metadata": {
    "colab": {
      "name": "CS6105_Lab_1_2.ipynb",
      "provenance": []
    },
    "kernelspec": {
      "name": "python3",
      "display_name": "Python 3"
    },
    "language_info": {
      "name": "python"
    }
  },
  "cells": [
    {
      "cell_type": "markdown",
      "metadata": {
        "id": "LcVMEKIOSIa0"
      },
      "source": [
        "<div>\n",
        "<img src=\"https://drive.google.com/uc?export=view&id=1vK33e_EqaHgBHcbRV_m38hx6IkG0blK_\" width=\"350\"/>\n",
        "</div> \n",
        "\n",
        "#**Artificial Intelligence - MSc**\n",
        "CS6105 - MACHINE LEARNING APPLICATIONS \n",
        "\n",
        "###Instructor: Enrique Naredo\n",
        "###CS6105_Lab_1.2"
      ]
    },
    {
      "cell_type": "markdown",
      "metadata": {
        "id": "MuZ0F5C9qUmr"
      },
      "source": [
        "## Imports"
      ]
    },
    {
      "cell_type": "code",
      "metadata": {
        "id": "H4759neSP_Kh"
      },
      "source": [
        "# import libraries\n",
        "from sklearn.datasets import make_blobs\n",
        "from sklearn.linear_model import LogisticRegression\n",
        "from pandas import DataFrame\n",
        "from mlxtend.plotting import plot_decision_regions\n",
        "import matplotlib.pyplot as plt\n",
        "import numpy as np\n",
        "import pymc3 as pm\n",
        "import warnings\n",
        "warnings.filterwarnings(\"ignore\")"
      ],
      "execution_count": 2,
      "outputs": []
    },
    {
      "cell_type": "markdown",
      "metadata": {
        "id": "XLp5xCeOqMEV"
      },
      "source": [
        "## Synthetic Dataset"
      ]
    },
    {
      "cell_type": "code",
      "metadata": {
        "colab": {
          "base_uri": "https://localhost:8080/",
          "height": 279
        },
        "id": "Dt6OoNp_-CeF",
        "outputId": "ac9e8a12-6e3d-42bd-9aba-db0a753d19bc"
      },
      "source": [
        "from sklearn.datasets import make_classification\n",
        "\n",
        "# create synthetic data\n",
        "# randomly generate a 2d, 3 classes dataset\n",
        "# run several times the cell to observe the results\n",
        "\n",
        "X1, y1 = make_classification(n_classes=3,\n",
        "                            n_features=2,\n",
        "                            n_samples=300, \n",
        "                            n_redundant=0, \n",
        "                            n_informative=2,\n",
        "                            n_clusters_per_class=1)\n",
        "\n",
        "# create a data frame\n",
        "df = DataFrame(dict(x=X1[:,0], y=X1[:,1], label=y1))\n",
        "# thre classes\n",
        "colors = {0:'red', 1:'green', 2:'blue'}\n",
        "# figure\n",
        "fig, ax = plt.subplots()\n",
        "grouped = df.groupby('label')\n",
        "# scatter plot\n",
        "for key, group in grouped:\n",
        "    group.plot(ax=ax, kind='scatter', x='x', y='y', label=key, color=colors[key])\n",
        "# show the plot\n",
        "plt.show()"
      ],
      "execution_count": 15,
      "outputs": [
        {
          "output_type": "display_data",
          "data": {
            "image/png": "[encoded data removed]",
            "text/plain": [
              "<Figure size 432x288 with 1 Axes>"
            ]
          },
          "metadata": {
            "needs_background": "light"
          }
        }
      ]
    },
    {
      "cell_type": "code",
      "metadata": {
        "colab": {
          "base_uri": "https://localhost:8080/",
          "height": 205
        },
        "id": "bFLeyfH0UeW2",
        "outputId": "9a2f90c9-c11e-4e6a-80bf-eccdda5d7c4c"
      },
      "source": [
        "# show first n rows (default 5)\n",
        "df.head()"
      ],
      "execution_count": 16,
      "outputs": [
        {
          "output_type": "execute_result",
          "data": {
            "text/html": [
              "<div>\n",
              "<style scoped>\n",
              "    .dataframe tbody tr th:only-of-type {\n",
              "        vertical-align: middle;\n",
              "    }\n",
              "\n",
              "    .dataframe tbody tr th {\n",
              "        vertical-align: top;\n",
              "    }\n",
              "\n",
              "    .dataframe thead th {\n",
              "        text-align: right;\n",
              "    }\n",
              "</style>\n",
              "<table border=\"1\" class=\"dataframe\">\n",
              "  <thead>\n",
              "    <tr style=\"text-align: right;\">\n",
              "      <th></th>\n",
              "      <th>x</th>\n",
              "      <th>y</th>\n",
              "      <th>label</th>\n",
              "    </tr>\n",
              "  </thead>\n",
              "  <tbody>\n",
              "    <tr>\n",
              "      <th>0</th>\n",
              "      <td>-0.155304</td>\n",
              "      <td>-0.503814</td>\n",
              "      <td>1</td>\n",
              "    </tr>\n",
              "    <tr>\n",
              "      <th>1</th>\n",
              "      <td>-1.167707</td>\n",
              "      <td>-0.135860</td>\n",
              "      <td>1</td>\n",
              "    </tr>\n",
              "    <tr>\n",
              "      <th>2</th>\n",
              "      <td>-0.023884</td>\n",
              "      <td>0.707606</td>\n",
              "      <td>2</td>\n",
              "    </tr>\n",
              "    <tr>\n",
              "      <th>3</th>\n",
              "      <td>-0.782837</td>\n",
              "      <td>1.805344</td>\n",
              "      <td>0</td>\n",
              "    </tr>\n",
              "    <tr>\n",
              "      <th>4</th>\n",
              "      <td>-1.075344</td>\n",
              "      <td>-1.391323</td>\n",
              "      <td>1</td>\n",
              "    </tr>\n",
              "  </tbody>\n",
              "</table>\n",
              "</div>"
            ],
            "text/plain": [
              "          x         y  label\n",
              "0 -0.155304 -0.503814      1\n",
              "1 -1.167707 -0.135860      1\n",
              "2 -0.023884  0.707606      2\n",
              "3 -0.782837  1.805344      0\n",
              "4 -1.075344 -1.391323      1"
            ]
          },
          "metadata": {},
          "execution_count": 16
        }
      ]
    },
    {
      "cell_type": "code",
      "metadata": {
        "colab": {
          "base_uri": "https://localhost:8080/"
        },
        "id": "LrM6v2A6pMfb",
        "outputId": "8816f1e4-9c6e-43ee-84c9-b3f14622d88f"
      },
      "source": [
        "# count the data elements for each class\n",
        "df['label'].value_counts()"
      ],
      "execution_count": 17,
      "outputs": [
        {
          "output_type": "execute_result",
          "data": {
            "text/plain": [
              "0    101\n",
              "1    100\n",
              "2     99\n",
              "Name: label, dtype: int64"
            ]
          },
          "metadata": {},
          "execution_count": 17
        }
      ]
    },
    {
      "cell_type": "markdown",
      "metadata": {
        "id": "_ZZS9l69qwVJ"
      },
      "source": [
        "## Logistic Regresion"
      ]
    },
    {
      "cell_type": "markdown",
      "metadata": {
        "id": "IIgx7MOprsnT"
      },
      "source": [
        "* [Logistic regression](https://en.wikipedia.org/wiki/Logistic_regression) is a statistical model that in its basic form uses a logistic function to model a binary dependent variable, although many more complex extensions exist. \n",
        "* In regression analysis, logistic regression (or logit regression) is estimating the parameters of a logistic model (a form of binary regression). \n",
        "\n",
        "\n"
      ]
    },
    {
      "cell_type": "code",
      "metadata": {
        "colab": {
          "base_uri": "https://localhost:8080/"
        },
        "id": "HsRi3LDyNyKI",
        "outputId": "e2f48bd9-63fd-48b6-c5a6-8862bd3c3d28"
      },
      "source": [
        "# Logistic Regression model\n",
        "LR_model = LogisticRegression()\n",
        "# fit to data a Logistic Regresion model\n",
        "LR_model.fit(X1, y1)"
      ],
      "execution_count": 18,
      "outputs": [
        {
          "output_type": "execute_result",
          "data": {
            "text/plain": [
              "LogisticRegression(C=1.0, class_weight=None, dual=False, fit_intercept=True,\n",
              "                   intercept_scaling=1, l1_ratio=None, max_iter=100,\n",
              "                   multi_class='auto', n_jobs=None, penalty='l2',\n",
              "                   random_state=None, solver='lbfgs', tol=0.0001, verbose=0,\n",
              "                   warm_start=False)"
            ]
          },
          "metadata": {},
          "execution_count": 18
        }
      ]
    },
    {
      "cell_type": "markdown",
      "metadata": {
        "id": "HhoTcXVzqOHl"
      },
      "source": [
        "Decision boundary from [Wikipedia](https://en.wikipedia.org/wiki/Decision_boundary): \n",
        "\n",
        "* A decision boundary is the region of a problem space in \n",
        "which the output label of a classifier is ambiguous.\n",
        "\n",
        "* If the decision surface is a hyperplane, then the classification problem is linear, and the classes are linearly separable.\n",
        "\n",
        "* In a statistical-classification problem with two classes, a decision boundary or decision surface is a hypersurface that partitions the underlying vector space into two sets, one for each class.\n",
        "\n",
        "* You can find a related information to this topic in this [publication](https://towardsdatascience.com/classification-problems-and-exploring-decision-boundaries-3317e03afcdb)\n",
        "\n",
        "\n"
      ]
    },
    {
      "cell_type": "code",
      "metadata": {
        "colab": {
          "base_uri": "https://localhost:8080/",
          "height": 284
        },
        "id": "8jMzZwuqgyYv",
        "outputId": "99fbbfda-fd82-46ee-f051-e159af7bec0b"
      },
      "source": [
        "# Plotting the decision boundary \n",
        "# from the LogisticRegression model\n",
        "plot_decision_regions(X1, y1, clf=LR_model, legend=2)\n"
      ],
      "execution_count": 19,
      "outputs": [
        {
          "output_type": "execute_result",
          "data": {
            "text/plain": [
              "<matplotlib.axes._subplots.AxesSubplot at 0x7fdc37575910>"
            ]
          },
          "metadata": {},
          "execution_count": 19
        },
        {
          "output_type": "display_data",
          "data": {
            "image/png": "[encoded data removed]",
            "text/plain": [
              "<Figure size 432x288 with 1 Axes>"
            ]
          },
          "metadata": {
            "needs_background": "light"
          }
        }
      ]
    },
    {
      "cell_type": "markdown",
      "metadata": {
        "id": "-1Ns97SgxHRP"
      },
      "source": [
        "## New Data"
      ]
    },
    {
      "cell_type": "code",
      "metadata": {
        "id": "dTvTkAdzyQge"
      },
      "source": [
        "# new data instances (10)\n",
        "X_new, _ = make_classification(n_classes=3,\n",
        "                            n_features=2,\n",
        "                            n_samples=10, \n",
        "                            n_redundant=0, \n",
        "                            n_informative=2,\n",
        "                            n_clusters_per_class=1)"
      ],
      "execution_count": 27,
      "outputs": []
    },
    {
      "cell_type": "markdown",
      "metadata": {
        "id": "34ZOLzB_rFrK"
      },
      "source": [
        "## Predictions"
      ]
    },
    {
      "cell_type": "code",
      "metadata": {
        "colab": {
          "base_uri": "https://localhost:8080/"
        },
        "id": "Rn2NQt61O7nA",
        "outputId": "1fe386d4-d7c0-4734-a36e-1f2e30e38817"
      },
      "source": [
        "# make predictions (assign class labels)\n",
        "y_pred = LR_model.predict(X_new)\n",
        "# show the inputs and predicted outputs\n",
        "for i in range(len(X_new)):\n",
        "\t#print(\"X=%s, Class Predicted = %s\" % (X_new[i], y_pred[i]))\n",
        "  print(\"X{0} = {1}, Class Predicted = {2}\".format(i, X_new[i], y_pred[i]))"
      ],
      "execution_count": 28,
      "outputs": [
        {
          "output_type": "stream",
          "name": "stdout",
          "text": [
            "X0 = [1.35349015 0.54744003], Class Predicted = 2\n",
            "X1 = [-1.3164025  -2.92830134], Class Predicted = 1\n",
            "X2 = [-0.98321571  0.87543665], Class Predicted = 0\n",
            "X3 = [-0.96012411 -0.99278933], Class Predicted = 1\n",
            "X4 = [-0.92830503 -0.5578154 ], Class Predicted = 1\n",
            "X5 = [-1.14540266 -1.15530658], Class Predicted = 1\n",
            "X6 = [1.46621042 0.3528294 ], Class Predicted = 2\n",
            "X7 = [-1.03061727  1.21138916], Class Predicted = 0\n",
            "X8 = [-0.33892127  2.11559367], Class Predicted = 0\n",
            "X9 = [-1.01789937  2.27514728], Class Predicted = 0\n"
          ]
        }
      ]
    },
    {
      "cell_type": "code",
      "metadata": {
        "id": "ej4fLLOa2tth"
      },
      "source": [
        "# create a data frame\n",
        "df_new = DataFrame(dict(x=X_new[:,0], y=X_new[:,1], label=y_pred))"
      ],
      "execution_count": 29,
      "outputs": []
    },
    {
      "cell_type": "code",
      "metadata": {
        "colab": {
          "base_uri": "https://localhost:8080/",
          "height": 362
        },
        "id": "wbEc5UPp0mmH",
        "outputId": "2f258506-b453-4e90-d1c6-04bb92054aaf"
      },
      "source": [
        "# show 10 rows \n",
        "df_new.head(10)"
      ],
      "execution_count": 30,
      "outputs": [
        {
          "output_type": "execute_result",
          "data": {
            "text/html": [
              "<div>\n",
              "<style scoped>\n",
              "    .dataframe tbody tr th:only-of-type {\n",
              "        vertical-align: middle;\n",
              "    }\n",
              "\n",
              "    .dataframe tbody tr th {\n",
              "        vertical-align: top;\n",
              "    }\n",
              "\n",
              "    .dataframe thead th {\n",
              "        text-align: right;\n",
              "    }\n",
              "</style>\n",
              "<table border=\"1\" class=\"dataframe\">\n",
              "  <thead>\n",
              "    <tr style=\"text-align: right;\">\n",
              "      <th></th>\n",
              "      <th>x</th>\n",
              "      <th>y</th>\n",
              "      <th>label</th>\n",
              "    </tr>\n",
              "  </thead>\n",
              "  <tbody>\n",
              "    <tr>\n",
              "      <th>0</th>\n",
              "      <td>1.353490</td>\n",
              "      <td>0.547440</td>\n",
              "      <td>2</td>\n",
              "    </tr>\n",
              "    <tr>\n",
              "      <th>1</th>\n",
              "      <td>-1.316402</td>\n",
              "      <td>-2.928301</td>\n",
              "      <td>1</td>\n",
              "    </tr>\n",
              "    <tr>\n",
              "      <th>2</th>\n",
              "      <td>-0.983216</td>\n",
              "      <td>0.875437</td>\n",
              "      <td>0</td>\n",
              "    </tr>\n",
              "    <tr>\n",
              "      <th>3</th>\n",
              "      <td>-0.960124</td>\n",
              "      <td>-0.992789</td>\n",
              "      <td>1</td>\n",
              "    </tr>\n",
              "    <tr>\n",
              "      <th>4</th>\n",
              "      <td>-0.928305</td>\n",
              "      <td>-0.557815</td>\n",
              "      <td>1</td>\n",
              "    </tr>\n",
              "    <tr>\n",
              "      <th>5</th>\n",
              "      <td>-1.145403</td>\n",
              "      <td>-1.155307</td>\n",
              "      <td>1</td>\n",
              "    </tr>\n",
              "    <tr>\n",
              "      <th>6</th>\n",
              "      <td>1.466210</td>\n",
              "      <td>0.352829</td>\n",
              "      <td>2</td>\n",
              "    </tr>\n",
              "    <tr>\n",
              "      <th>7</th>\n",
              "      <td>-1.030617</td>\n",
              "      <td>1.211389</td>\n",
              "      <td>0</td>\n",
              "    </tr>\n",
              "    <tr>\n",
              "      <th>8</th>\n",
              "      <td>-0.338921</td>\n",
              "      <td>2.115594</td>\n",
              "      <td>0</td>\n",
              "    </tr>\n",
              "    <tr>\n",
              "      <th>9</th>\n",
              "      <td>-1.017899</td>\n",
              "      <td>2.275147</td>\n",
              "      <td>0</td>\n",
              "    </tr>\n",
              "  </tbody>\n",
              "</table>\n",
              "</div>"
            ],
            "text/plain": [
              "          x         y  label\n",
              "0  1.353490  0.547440      2\n",
              "1 -1.316402 -2.928301      1\n",
              "2 -0.983216  0.875437      0\n",
              "3 -0.960124 -0.992789      1\n",
              "4 -0.928305 -0.557815      1\n",
              "5 -1.145403 -1.155307      1\n",
              "6  1.466210  0.352829      2\n",
              "7 -1.030617  1.211389      0\n",
              "8 -0.338921  2.115594      0\n",
              "9 -1.017899  2.275147      0"
            ]
          },
          "metadata": {},
          "execution_count": 30
        }
      ]
    },
    {
      "cell_type": "code",
      "metadata": {
        "colab": {
          "base_uri": "https://localhost:8080/",
          "height": 279
        },
        "id": "wqyLkxR4xYLP",
        "outputId": "ac7f3ffa-f177-4587-8d20-b0d597ad3862"
      },
      "source": [
        "# three classes\n",
        "colors2 = {0:'orange', 1:'brown', 2:'cyan'}\n",
        "# figure\n",
        "fig2, ax2 = plt.subplots()\n",
        "# new data\n",
        "grouped2 = df_new.groupby('label')\n",
        "# scatter plot\n",
        "for key2, group2 in grouped2:\n",
        "    group2.plot(ax=ax2, kind='scatter', x='x', y='y', label=key2, color=colors2[key2])\n",
        "# show the plot\n",
        "plt.show()"
      ],
      "execution_count": 31,
      "outputs": [
        {
          "output_type": "display_data",
          "data": {
            "image/png": "[encoded data removed]",
            "text/plain": [
              "<Figure size 432x288 with 1 Axes>"
            ]
          },
          "metadata": {
            "needs_background": "light"
          }
        }
      ]
    },
    {
      "cell_type": "code",
      "metadata": {
        "colab": {
          "base_uri": "https://localhost:8080/",
          "height": 282
        },
        "id": "gUfxHcbG3r4p",
        "outputId": "43899dd4-5a31-4acb-885d-3eefd86ddf80"
      },
      "source": [
        "# Plotting the new decision boundary \n",
        "# from the LogisticRegression model\n",
        "plot_decision_regions(X_new, y_pred, clf=LR_model, legend=2)"
      ],
      "execution_count": 32,
      "outputs": [
        {
          "output_type": "execute_result",
          "data": {
            "text/plain": [
              "<matplotlib.axes._subplots.AxesSubplot at 0x7fdc2f099790>"
            ]
          },
          "metadata": {},
          "execution_count": 32
        },
        {
          "output_type": "display_data",
          "data": {
            "image/png": "[encoded data removed]",
            "text/plain": [
              "<Figure size 432x288 with 1 Axes>"
            ]
          },
          "metadata": {
            "needs_background": "light"
          }
        }
      ]
    }
  ]
}