{
  "nbformat": 4,
  "nbformat_minor": 0,
  "metadata": {
    "colab": {
      "name": "CS6501_Lab-0_15.ipynb",
      "provenance": [],
      "collapsed_sections": []
    },
    "kernelspec": {
      "name": "python3",
      "display_name": "Python 3"
    },
    "language_info": {
      "name": "python"
    }
  },
  "cells": [
    {
      "cell_type": "markdown",
      "metadata": {
        "id": "xDKIjqUaI69h"
      },
      "source": [
        "<div>\n",
        "<img src=\"https://drive.google.com/uc?export=view&id=1vK33e_EqaHgBHcbRV_m38hx6IkG0blK_\" width=\"350\"/>\n",
        "</div> \n",
        "\n",
        "#**Artificial Intelligence - MSc**\n",
        "CS6501 - MACHINE LEARNING AND APPLICATIONS \n",
        "\n",
        "###Instructor: Enrique Naredo\n",
        "###CS6501_Lab-0.15_sol\n",
        "\n",
        "#**Extra Numpy problems**"
      ]
    },
    {
      "cell_type": "code",
      "metadata": {
        "id": "2HHCJ01DQMji"
      },
      "source": [
        "import numpy as np"
      ],
      "execution_count": null,
      "outputs": []
    },
    {
      "cell_type": "markdown",
      "metadata": {
        "id": "gRbds0ey3HEP"
      },
      "source": [
        "## Problem 21\n",
        "\n",
        "Import the [iris dataset](https://archive.ics.uci.edu/ml/machine-learning-databases/iris/iris.data) and compute the [softmax score](https://en.wikipedia.org/wiki/Softmax_function) of `sepallength`."
      ]
    },
    {
      "cell_type": "markdown",
      "metadata": {
        "id": "gIIIT_FBJbuE"
      },
      "source": [
        "## Problem 22\n",
        "\n",
        "Replace all ocurrences of `nan` with 0 in numpy array.\n",
        "\n",
        "Input:\n",
        "\n",
        "`url = 'https://archive.ics.uci.edu/ml/machine-learning-databases/iris/iris.data'`\n",
        "\n",
        "`iris_2d = np.genfromtxt(url, delimiter=',', dtype='float', usecols=[0,1,2,3])`\n",
        "\n",
        "`iris_2d[np.random.randint(150, size=20), np.random.randint(4, size=20)] = np.nan`"
      ]
    },
    {
      "cell_type": "markdown",
      "metadata": {
        "id": "pPdzBnVz3QzM"
      },
      "source": [
        "## Problem 23\n",
        "\n",
        "Find the unique values and the count of unique values in iris's `species`.\n",
        "\n",
        "Input:\n",
        "\n",
        "`url = 'https://archive.ics.uci.edu/ml/machine-learning-databases/iris/iris.data'`\n",
        "\n",
        "`iris = np.genfromtxt(url, delimiter=',', dtype='object')`\n",
        "\n",
        "`names = ('sepallength', 'sepalwidth', 'petallength', 'petalwidth', 'species')`"
      ]
    },
    {
      "cell_type": "markdown",
      "metadata": {
        "id": "YQtmklEc3Uz8"
      },
      "source": [
        "## Problem 24\n",
        "\n",
        "Randomly sample iris's `species` such that `setose` is twice the number of `versicolor` and `virginica`.\n",
        "\n",
        "Input:\n",
        "\n",
        "`url = 'https://archive.ics.uci.edu/ml/machine-learning-databases/iris/iris.data'`\n",
        "\n",
        "`iris = np.genfromtxt(url, delimiter=',', dtype='object')`"
      ]
    },
    {
      "cell_type": "markdown",
      "metadata": {
        "id": "m5Qo4J-Z3VuE"
      },
      "source": [
        "## Problem 25\n",
        "\n",
        "Find the value of second longest petallength of species setosa.\n",
        "\n",
        "Input:\n",
        "\n",
        "`url = 'https://archive.ics.uci.edu/ml/machine-learning-databases/iris/iris.data'`\n",
        "\n",
        "`iris = np.genfromtxt(url, delimiter=',', dtype='object')`"
      ]
    },
    {
      "cell_type": "markdown",
      "metadata": {
        "id": "5S17OHj63Wc1"
      },
      "source": [
        "## Problem 26\n",
        "\n",
        "Sort the iris dataset based on `sepallength` column.\n",
        "\n",
        "Input:\n",
        "\n",
        "`url = 'https://archive.ics.uci.edu/ml/machine-learning-databases/iris/iris.data'`\n",
        "\n",
        "`iris = np.genfromtxt(url, delimiter=',', dtype='object')`\n",
        "\n",
        "`names = ('sepallength', 'sepalwidth', 'petallength', 'petalwidth', 'species')`"
      ]
    },
    {
      "cell_type": "markdown",
      "metadata": {
        "id": "_ymdLB0s3Xbe"
      },
      "source": [
        "## Problem 27\n",
        "\n",
        "Find the most frequent value of `petallength` (3rd column) in iris dataset.\n",
        "\n",
        "Input:\n",
        "\n",
        "`url = 'https://archive.ics.uci.edu/ml/machine-learning-databases/iris/iris.data'`\n",
        "\n",
        "`iris = np.genfromtxt(url, delimiter=',', dtype='object')`\n",
        "\n",
        "`names = ('sepallength', 'sepalwidth', 'petallength', 'petalwidth', 'species')`"
      ]
    },
    {
      "cell_type": "markdown",
      "metadata": {
        "id": "aVZfb9513Ybf"
      },
      "source": [
        "## Problem 28\n",
        "\n",
        "Find the position of the first occurrence of a value greater than 1.0 in `petalwidth` 4th column of iris dataset.\n",
        "\n",
        "Input:\n",
        "\n",
        "`url = 'https://archive.ics.uci.edu/ml/machine-learning-databases/iris/iris.data'`\n",
        "\n",
        "`iris = np.genfromtxt(url, delimiter=',', dtype='object')`\n",
        "\n",
        "`names = ('sepallength', 'sepalwidth', 'petallength', 'petalwidth', 'species')`\n"
      ]
    },
    {
      "cell_type": "markdown",
      "metadata": {
        "id": "xzpB7TGm3ZUM"
      },
      "source": [
        "## Problem 29\n",
        "\n",
        "From the array `a`, replace all values greater than 30 to 30 and less than 10 to 10.\n",
        "\n",
        "Input:\n",
        "\n",
        "`np.random.seed(100)`\n",
        "\n",
        "`a = np.random.uniform(1,50, 20)`\n"
      ]
    },
    {
      "cell_type": "markdown",
      "metadata": {
        "id": "LXdQeKks3aMk"
      },
      "source": [
        "## Problem 30\n",
        "\n",
        "Find the duplicate entries (2nd occurrence onwards) in the given numpy array and mark them as True. First time occurrences should be False.\n",
        "\n",
        "Input:\n",
        "\n",
        "`np.random.seed(100)`\n",
        "\n",
        "`a = np.random.randint(0, 5, 10)`"
      ]
    }
  ]
}