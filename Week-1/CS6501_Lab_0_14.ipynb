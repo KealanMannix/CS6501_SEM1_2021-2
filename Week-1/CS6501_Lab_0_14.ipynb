{
  "nbformat": 4,
  "nbformat_minor": 0,
  "metadata": {
    "colab": {
      "name": "CS6501_Lab-0_14.ipynb",
      "provenance": [],
      "collapsed_sections": []
    },
    "kernelspec": {
      "name": "python3",
      "display_name": "Python 3"
    },
    "language_info": {
      "name": "python"
    }
  },
  "cells": [
    {
      "cell_type": "markdown",
      "metadata": {
        "id": "xDKIjqUaI69h"
      },
      "source": [
        "<div>\n",
        "<img src=\"https://drive.google.com/uc?export=view&id=1vK33e_EqaHgBHcbRV_m38hx6IkG0blK_\" width=\"350\"/>\n",
        "</div> \n",
        "\n",
        "#**Artificial Intelligence - MSc**\n",
        "CS6501 - MACHINE LEARNING AND APPLICATIONS \n",
        "\n",
        "###Instructor: Enrique Naredo\n",
        "###CS6501_Lab-0.14_sol\n",
        "\n",
        "#**Extra Numpy problems**"
      ]
    },
    {
      "cell_type": "code",
      "metadata": {
        "id": "4XteONLD7v9_"
      },
      "source": [
        "import numpy as np"
      ],
      "execution_count": null,
      "outputs": []
    },
    {
      "cell_type": "markdown",
      "metadata": {
        "id": "gRbds0ey3HEP"
      },
      "source": [
        "## Problem 11\n",
        "\n",
        "Convert the function `maxx` that works on two scalars, to work on two arrays.\n",
        "\n",
        "    def maxx(x, y):\n",
        "     #Get the maximum of two items\n",
        "     if x >= y:\n",
        "        return x\n",
        "     else:\n",
        "         return y\n",
        "\n",
        "Input:\n",
        "\n",
        "`a = np.array([5, 7, 9, 8, 6, 4, 5])`\n",
        "\n",
        "`b = np.array([6, 3, 4, 8, 9, 7, 1])`\n",
        "\n",
        "Desired Output:\n",
        "\n",
        "`array([ 6.,  7.,  9.,  8.,  9.,  7.,  5.])`"
      ]
    },
    {
      "cell_type": "markdown",
      "metadata": {
        "id": "gIIIT_FBJbuE"
      },
      "source": [
        "## Problem 12\n",
        "\n",
        "Swap columns 0 and 1 in the array `arr`.\n",
        "\n",
        "Input:\n",
        "\n",
        "`arr = np.arange(9).reshape(3,3)`\n",
        "\n",
        "Desired Output:\n",
        "\n",
        "`array([[1, 0, 2],\n",
        "       [4, 3, 5],\n",
        "       [7, 6, 8]])`"
      ]
    },
    {
      "cell_type": "markdown",
      "metadata": {
        "id": "pPdzBnVz3QzM"
      },
      "source": [
        "## Problem 13\n",
        "\n",
        "Swap rows 0 and 1 in the array `arr`.\n",
        "\n",
        "Input:\n",
        "\n",
        "`arr = np.arange(9).reshape(3,3)`\n",
        "\n",
        "Desired Output:\n",
        "\n",
        "`array([[3, 4, 5],\n",
        "        [0, 1, 2],\n",
        "        [6, 7, 8]])`"
      ]
    },
    {
      "cell_type": "markdown",
      "metadata": {
        "id": "YQtmklEc3Uz8"
      },
      "source": [
        "## Problem 14\n",
        "\n",
        "Reverse the rows of a 2D array `arr`.\n",
        "\n",
        "Input:\n",
        "\n",
        "`arr = np.arange(9).reshape(3,3)`\n",
        "\n",
        "Desired Output:\n",
        "\n",
        "`array([[6, 7, 8],\n",
        "       [3, 4, 5],\n",
        "       [0, 1, 2]])`"
      ]
    },
    {
      "cell_type": "markdown",
      "metadata": {
        "id": "m5Qo4J-Z3VuE"
      },
      "source": [
        "## Problem 15\n",
        "\n",
        "Reverse the columns of a 2D array `arr`.\n",
        "\n",
        "Input:\n",
        "\n",
        "`arr = np.arange(9).reshape(3,3)`\n",
        "\n",
        "Desired Output:\n",
        "\n",
        "`array([[2, 1, 0],\n",
        "       [5, 4, 3],\n",
        "       [8, 7, 6]])`\n"
      ]
    },
    {
      "cell_type": "markdown",
      "metadata": {
        "id": "5S17OHj63Wc1"
      },
      "source": [
        "## Problem 16\n",
        "\n",
        "Print or show only 3 decimal places of the numpy array `rand_arr`.\n",
        "\n",
        "Input:\n",
        "\n",
        "`rand_arr = np.random.random((5,3))`\n"
      ]
    },
    {
      "cell_type": "markdown",
      "metadata": {
        "id": "_ymdLB0s3Xbe"
      },
      "source": [
        "## Problem 17\n",
        "\n",
        "Limit the number of items printed in python numpy array a to a maximum of 6 elements.\n",
        "\n",
        "Input:\n",
        "\n",
        "`a = np.arange(15)`\n",
        "\n",
        "Desired Output:\n",
        "\n",
        "`array([ 0,  1,  2, ..., 12, 13, 14])`\n"
      ]
    },
    {
      "cell_type": "markdown",
      "metadata": {
        "id": "aVZfb9513Ybf"
      },
      "source": [
        "## Problem 18\n",
        "\n",
        "Import the [iris dataset](https://archive.ics.uci.edu/ml/machine-learning-databases/iris/iris.data) with numbers and texts keeping the text intact in Numpy."
      ]
    },
    {
      "cell_type": "markdown",
      "metadata": {
        "id": "xzpB7TGm3ZUM"
      },
      "source": [
        "## Problem 19\n",
        "\n",
        "Find the mean, median, standard deviation of iris's `sepallength` (1st column)"
      ]
    },
    {
      "cell_type": "markdown",
      "metadata": {
        "id": "LXdQeKks3aMk"
      },
      "source": [
        "## Problem 20\n",
        "\n",
        "Create a normalized form of iris's `sepallength` whose values range exactly between 0 and 1 so that the minimum has value 0 and maximum has value 1.\n"
      ]
    }
  ]
}